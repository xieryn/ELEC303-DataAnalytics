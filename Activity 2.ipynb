{
 "cells": [
  {
   "cell_type": "markdown",
   "id": "ca276d42-9601-423c-92c3-925ab0ea7ced",
   "metadata": {},
   "source": [
    "<h1>Activity 2: UK ROAD ACCIDENT</h1>\n",
    "<hr/>\n",
    "<h3>Analyst: Marianne Capuno</h3>"
   ]
  },
  {
   "cell_type": "markdown",
   "id": "04eff999-1135-4a37-9b78-e628b4dc76fc",
   "metadata": {},
   "source": [
    "<h1>Import Libraries</h1>"
   ]
  },
  {
   "cell_type": "code",
   "execution_count": 1,
   "id": "dac422bc-c573-4b93-a34c-de0db1f2330b",
   "metadata": {},
   "outputs": [],
   "source": [
    "import numpy as np\n",
    "import pandas as pd\n",
    "import warnings\n",
    "warnings.filterwarnings('ignore')"
   ]
  },
  {
   "cell_type": "markdown",
   "id": "f5eada71-5ef8-48a8-bfd2-e7cae433608d",
   "metadata": {},
   "source": [
    "<h1>Convert the DataSet into DataFrame</h1>"
   ]
  },
  {
   "cell_type": "code",
   "execution_count": 2,
   "id": "835facc6-8ef4-4865-931b-40a846b95ddc",
   "metadata": {},
   "outputs": [],
   "source": [
    "accident = pd.read_csv(\"datasets//uk_road_accident.csv\")"
   ]
  },
  {
   "cell_type": "code",
   "execution_count": 3,
   "id": "a2382119-39a0-4d02-b9c9-1965ddb6713e",
   "metadata": {},
   "outputs": [
    {
     "data": {
      "text/html": [
       "<div>\n",
       "<style scoped>\n",
       "    .dataframe tbody tr th:only-of-type {\n",
       "        vertical-align: middle;\n",
       "    }\n",
       "\n",
       "    .dataframe tbody tr th {\n",
       "        vertical-align: top;\n",
       "    }\n",
       "\n",
       "    .dataframe thead th {\n",
       "        text-align: right;\n",
       "    }\n",
       "</style>\n",
       "<table border=\"1\" class=\"dataframe\">\n",
       "  <thead>\n",
       "    <tr style=\"text-align: right;\">\n",
       "      <th></th>\n",
       "      <th>Index</th>\n",
       "      <th>Accident_Severity</th>\n",
       "      <th>Accident Date</th>\n",
       "      <th>Latitude</th>\n",
       "      <th>Light_Conditions</th>\n",
       "      <th>District Area</th>\n",
       "      <th>Longitude</th>\n",
       "      <th>Number_of_Casualties</th>\n",
       "      <th>Number_of_Vehicles</th>\n",
       "      <th>Road_Surface_Conditions</th>\n",
       "      <th>Road_Type</th>\n",
       "      <th>Urban_or_Rural_Area</th>\n",
       "      <th>Weather_Conditions</th>\n",
       "      <th>Vehicle_Type</th>\n",
       "    </tr>\n",
       "  </thead>\n",
       "  <tbody>\n",
       "    <tr>\n",
       "      <th>0</th>\n",
       "      <td>200701BS64157</td>\n",
       "      <td>Serious</td>\n",
       "      <td>5/6/2019</td>\n",
       "      <td>51.506187</td>\n",
       "      <td>Darkness - lights lit</td>\n",
       "      <td>Kensington and Chelsea</td>\n",
       "      <td>-0.209082</td>\n",
       "      <td>1</td>\n",
       "      <td>2</td>\n",
       "      <td>Dry</td>\n",
       "      <td>Single carriageway</td>\n",
       "      <td>Urban</td>\n",
       "      <td>Fine no high winds</td>\n",
       "      <td>Car</td>\n",
       "    </tr>\n",
       "    <tr>\n",
       "      <th>1</th>\n",
       "      <td>200701BS65737</td>\n",
       "      <td>Serious</td>\n",
       "      <td>2/7/2019</td>\n",
       "      <td>51.495029</td>\n",
       "      <td>Daylight</td>\n",
       "      <td>Kensington and Chelsea</td>\n",
       "      <td>-0.173647</td>\n",
       "      <td>1</td>\n",
       "      <td>2</td>\n",
       "      <td>Wet or damp</td>\n",
       "      <td>Single carriageway</td>\n",
       "      <td>Urban</td>\n",
       "      <td>Raining no high winds</td>\n",
       "      <td>Car</td>\n",
       "    </tr>\n",
       "    <tr>\n",
       "      <th>2</th>\n",
       "      <td>200701BS66127</td>\n",
       "      <td>Serious</td>\n",
       "      <td>26-08-2019</td>\n",
       "      <td>51.517715</td>\n",
       "      <td>Darkness - lighting unknown</td>\n",
       "      <td>Kensington and Chelsea</td>\n",
       "      <td>-0.210215</td>\n",
       "      <td>1</td>\n",
       "      <td>3</td>\n",
       "      <td>Dry</td>\n",
       "      <td>NaN</td>\n",
       "      <td>Urban</td>\n",
       "      <td>NaN</td>\n",
       "      <td>Taxi/Private hire car</td>\n",
       "    </tr>\n",
       "    <tr>\n",
       "      <th>3</th>\n",
       "      <td>200701BS66128</td>\n",
       "      <td>Serious</td>\n",
       "      <td>16-08-2019</td>\n",
       "      <td>51.495478</td>\n",
       "      <td>Daylight</td>\n",
       "      <td>Kensington and Chelsea</td>\n",
       "      <td>-0.202731</td>\n",
       "      <td>1</td>\n",
       "      <td>4</td>\n",
       "      <td>Dry</td>\n",
       "      <td>Single carriageway</td>\n",
       "      <td>Urban</td>\n",
       "      <td>Fine no high winds</td>\n",
       "      <td>Bus or coach (17 or more pass seats)</td>\n",
       "    </tr>\n",
       "    <tr>\n",
       "      <th>4</th>\n",
       "      <td>200701BS66837</td>\n",
       "      <td>Slight</td>\n",
       "      <td>3/9/2019</td>\n",
       "      <td>51.488576</td>\n",
       "      <td>Darkness - lights lit</td>\n",
       "      <td>Kensington and Chelsea</td>\n",
       "      <td>-0.192487</td>\n",
       "      <td>1</td>\n",
       "      <td>2</td>\n",
       "      <td>Dry</td>\n",
       "      <td>NaN</td>\n",
       "      <td>Urban</td>\n",
       "      <td>NaN</td>\n",
       "      <td>Other vehicle</td>\n",
       "    </tr>\n",
       "    <tr>\n",
       "      <th>...</th>\n",
       "      <td>...</td>\n",
       "      <td>...</td>\n",
       "      <td>...</td>\n",
       "      <td>...</td>\n",
       "      <td>...</td>\n",
       "      <td>...</td>\n",
       "      <td>...</td>\n",
       "      <td>...</td>\n",
       "      <td>...</td>\n",
       "      <td>...</td>\n",
       "      <td>...</td>\n",
       "      <td>...</td>\n",
       "      <td>...</td>\n",
       "      <td>...</td>\n",
       "    </tr>\n",
       "    <tr>\n",
       "      <th>660674</th>\n",
       "      <td>201091NM01760</td>\n",
       "      <td>Slight</td>\n",
       "      <td>18-02-2022</td>\n",
       "      <td>57.374005</td>\n",
       "      <td>Daylight</td>\n",
       "      <td>Highland</td>\n",
       "      <td>-3.467828</td>\n",
       "      <td>2</td>\n",
       "      <td>1</td>\n",
       "      <td>Dry</td>\n",
       "      <td>Single carriageway</td>\n",
       "      <td>Rural</td>\n",
       "      <td>Fine no high winds</td>\n",
       "      <td>Car</td>\n",
       "    </tr>\n",
       "    <tr>\n",
       "      <th>660675</th>\n",
       "      <td>201091NM01881</td>\n",
       "      <td>Slight</td>\n",
       "      <td>21-02-2022</td>\n",
       "      <td>57.232273</td>\n",
       "      <td>Darkness - no lighting</td>\n",
       "      <td>Highland</td>\n",
       "      <td>-3.809281</td>\n",
       "      <td>1</td>\n",
       "      <td>1</td>\n",
       "      <td>Frost or ice</td>\n",
       "      <td>Single carriageway</td>\n",
       "      <td>Rural</td>\n",
       "      <td>Fine no high winds</td>\n",
       "      <td>Car</td>\n",
       "    </tr>\n",
       "    <tr>\n",
       "      <th>660676</th>\n",
       "      <td>201091NM01935</td>\n",
       "      <td>Slight</td>\n",
       "      <td>23-02-2022</td>\n",
       "      <td>57.585044</td>\n",
       "      <td>Daylight</td>\n",
       "      <td>Highland</td>\n",
       "      <td>-3.862727</td>\n",
       "      <td>1</td>\n",
       "      <td>3</td>\n",
       "      <td>Frost or ice</td>\n",
       "      <td>Single carriageway</td>\n",
       "      <td>Rural</td>\n",
       "      <td>Fine no high winds</td>\n",
       "      <td>Car</td>\n",
       "    </tr>\n",
       "    <tr>\n",
       "      <th>660677</th>\n",
       "      <td>201091NM01964</td>\n",
       "      <td>Serious</td>\n",
       "      <td>23-02-2022</td>\n",
       "      <td>57.214898</td>\n",
       "      <td>Darkness - no lighting</td>\n",
       "      <td>Highland</td>\n",
       "      <td>-3.823997</td>\n",
       "      <td>1</td>\n",
       "      <td>2</td>\n",
       "      <td>Wet or damp</td>\n",
       "      <td>Single carriageway</td>\n",
       "      <td>Rural</td>\n",
       "      <td>Fine no high winds</td>\n",
       "      <td>Motorcycle over 500cc</td>\n",
       "    </tr>\n",
       "    <tr>\n",
       "      <th>660678</th>\n",
       "      <td>201091NM02142</td>\n",
       "      <td>Serious</td>\n",
       "      <td>28-02-2022</td>\n",
       "      <td>57.575210</td>\n",
       "      <td>Daylight</td>\n",
       "      <td>Highland</td>\n",
       "      <td>-3.895673</td>\n",
       "      <td>1</td>\n",
       "      <td>1</td>\n",
       "      <td>Wet or damp</td>\n",
       "      <td>Dual carriageway</td>\n",
       "      <td>Rural</td>\n",
       "      <td>Snowing no high winds</td>\n",
       "      <td>Car</td>\n",
       "    </tr>\n",
       "  </tbody>\n",
       "</table>\n",
       "<p>660679 rows × 14 columns</p>\n",
       "</div>"
      ],
      "text/plain": [
       "                Index Accident_Severity Accident Date   Latitude  \\\n",
       "0       200701BS64157           Serious      5/6/2019  51.506187   \n",
       "1       200701BS65737           Serious      2/7/2019  51.495029   \n",
       "2       200701BS66127           Serious    26-08-2019  51.517715   \n",
       "3       200701BS66128           Serious    16-08-2019  51.495478   \n",
       "4       200701BS66837            Slight      3/9/2019  51.488576   \n",
       "...               ...               ...           ...        ...   \n",
       "660674  201091NM01760            Slight    18-02-2022  57.374005   \n",
       "660675  201091NM01881            Slight    21-02-2022  57.232273   \n",
       "660676  201091NM01935            Slight    23-02-2022  57.585044   \n",
       "660677  201091NM01964           Serious    23-02-2022  57.214898   \n",
       "660678  201091NM02142           Serious    28-02-2022  57.575210   \n",
       "\n",
       "                   Light_Conditions           District Area  Longitude  \\\n",
       "0             Darkness - lights lit  Kensington and Chelsea  -0.209082   \n",
       "1                          Daylight  Kensington and Chelsea  -0.173647   \n",
       "2       Darkness - lighting unknown  Kensington and Chelsea  -0.210215   \n",
       "3                          Daylight  Kensington and Chelsea  -0.202731   \n",
       "4             Darkness - lights lit  Kensington and Chelsea  -0.192487   \n",
       "...                             ...                     ...        ...   \n",
       "660674                     Daylight                Highland  -3.467828   \n",
       "660675       Darkness - no lighting                Highland  -3.809281   \n",
       "660676                     Daylight                Highland  -3.862727   \n",
       "660677       Darkness - no lighting                Highland  -3.823997   \n",
       "660678                     Daylight                Highland  -3.895673   \n",
       "\n",
       "        Number_of_Casualties  Number_of_Vehicles Road_Surface_Conditions  \\\n",
       "0                          1                   2                     Dry   \n",
       "1                          1                   2             Wet or damp   \n",
       "2                          1                   3                     Dry   \n",
       "3                          1                   4                     Dry   \n",
       "4                          1                   2                     Dry   \n",
       "...                      ...                 ...                     ...   \n",
       "660674                     2                   1                     Dry   \n",
       "660675                     1                   1            Frost or ice   \n",
       "660676                     1                   3            Frost or ice   \n",
       "660677                     1                   2             Wet or damp   \n",
       "660678                     1                   1             Wet or damp   \n",
       "\n",
       "                 Road_Type Urban_or_Rural_Area     Weather_Conditions  \\\n",
       "0       Single carriageway               Urban     Fine no high winds   \n",
       "1       Single carriageway               Urban  Raining no high winds   \n",
       "2                      NaN               Urban                    NaN   \n",
       "3       Single carriageway               Urban     Fine no high winds   \n",
       "4                      NaN               Urban                    NaN   \n",
       "...                    ...                 ...                    ...   \n",
       "660674  Single carriageway               Rural     Fine no high winds   \n",
       "660675  Single carriageway               Rural     Fine no high winds   \n",
       "660676  Single carriageway               Rural     Fine no high winds   \n",
       "660677  Single carriageway               Rural     Fine no high winds   \n",
       "660678    Dual carriageway               Rural  Snowing no high winds   \n",
       "\n",
       "                                Vehicle_Type  \n",
       "0                                        Car  \n",
       "1                                        Car  \n",
       "2                      Taxi/Private hire car  \n",
       "3       Bus or coach (17 or more pass seats)  \n",
       "4                              Other vehicle  \n",
       "...                                      ...  \n",
       "660674                                   Car  \n",
       "660675                                   Car  \n",
       "660676                                   Car  \n",
       "660677                 Motorcycle over 500cc  \n",
       "660678                                   Car  \n",
       "\n",
       "[660679 rows x 14 columns]"
      ]
     },
     "execution_count": 3,
     "metadata": {},
     "output_type": "execute_result"
    }
   ],
   "source": [
    "accident"
   ]
  },
  {
   "cell_type": "code",
   "execution_count": 4,
   "id": "791cebd7-5c3c-474e-817c-13f111f1a93c",
   "metadata": {},
   "outputs": [
    {
     "data": {
      "text/plain": [
       "Index(['Index', 'Accident_Severity', 'Accident Date', 'Latitude',\n",
       "       'Light_Conditions', 'District Area', 'Longitude',\n",
       "       'Number_of_Casualties', 'Number_of_Vehicles', 'Road_Surface_Conditions',\n",
       "       'Road_Type', 'Urban_or_Rural_Area', 'Weather_Conditions',\n",
       "       'Vehicle_Type'],\n",
       "      dtype='object')"
      ]
     },
     "execution_count": 4,
     "metadata": {},
     "output_type": "execute_result"
    }
   ],
   "source": [
    "accident.columns"
   ]
  },
  {
   "cell_type": "markdown",
   "id": "c7dec68d-82d2-4a02-a998-db6bb62bcadb",
   "metadata": {},
   "source": [
    "<h1>Checking for Null Values</h1>"
   ]
  },
  {
   "cell_type": "code",
   "execution_count": 5,
   "id": "6befbc61-5c8e-4f55-a5de-0a684e051585",
   "metadata": {},
   "outputs": [
    {
     "data": {
      "text/html": [
       "<div>\n",
       "<style scoped>\n",
       "    .dataframe tbody tr th:only-of-type {\n",
       "        vertical-align: middle;\n",
       "    }\n",
       "\n",
       "    .dataframe tbody tr th {\n",
       "        vertical-align: top;\n",
       "    }\n",
       "\n",
       "    .dataframe thead th {\n",
       "        text-align: right;\n",
       "    }\n",
       "</style>\n",
       "<table border=\"1\" class=\"dataframe\">\n",
       "  <thead>\n",
       "    <tr style=\"text-align: right;\">\n",
       "      <th></th>\n",
       "      <th>Index</th>\n",
       "      <th>Accident_Severity</th>\n",
       "      <th>Accident Date</th>\n",
       "      <th>Latitude</th>\n",
       "      <th>Light_Conditions</th>\n",
       "      <th>District Area</th>\n",
       "      <th>Longitude</th>\n",
       "      <th>Number_of_Casualties</th>\n",
       "      <th>Number_of_Vehicles</th>\n",
       "      <th>Road_Surface_Conditions</th>\n",
       "      <th>Road_Type</th>\n",
       "      <th>Urban_or_Rural_Area</th>\n",
       "      <th>Weather_Conditions</th>\n",
       "      <th>Vehicle_Type</th>\n",
       "    </tr>\n",
       "  </thead>\n",
       "  <tbody>\n",
       "    <tr>\n",
       "      <th>0</th>\n",
       "      <td>False</td>\n",
       "      <td>False</td>\n",
       "      <td>False</td>\n",
       "      <td>False</td>\n",
       "      <td>False</td>\n",
       "      <td>False</td>\n",
       "      <td>False</td>\n",
       "      <td>False</td>\n",
       "      <td>False</td>\n",
       "      <td>False</td>\n",
       "      <td>False</td>\n",
       "      <td>False</td>\n",
       "      <td>False</td>\n",
       "      <td>False</td>\n",
       "    </tr>\n",
       "    <tr>\n",
       "      <th>1</th>\n",
       "      <td>False</td>\n",
       "      <td>False</td>\n",
       "      <td>False</td>\n",
       "      <td>False</td>\n",
       "      <td>False</td>\n",
       "      <td>False</td>\n",
       "      <td>False</td>\n",
       "      <td>False</td>\n",
       "      <td>False</td>\n",
       "      <td>False</td>\n",
       "      <td>False</td>\n",
       "      <td>False</td>\n",
       "      <td>False</td>\n",
       "      <td>False</td>\n",
       "    </tr>\n",
       "    <tr>\n",
       "      <th>2</th>\n",
       "      <td>False</td>\n",
       "      <td>False</td>\n",
       "      <td>False</td>\n",
       "      <td>False</td>\n",
       "      <td>False</td>\n",
       "      <td>False</td>\n",
       "      <td>False</td>\n",
       "      <td>False</td>\n",
       "      <td>False</td>\n",
       "      <td>False</td>\n",
       "      <td>True</td>\n",
       "      <td>False</td>\n",
       "      <td>True</td>\n",
       "      <td>False</td>\n",
       "    </tr>\n",
       "    <tr>\n",
       "      <th>3</th>\n",
       "      <td>False</td>\n",
       "      <td>False</td>\n",
       "      <td>False</td>\n",
       "      <td>False</td>\n",
       "      <td>False</td>\n",
       "      <td>False</td>\n",
       "      <td>False</td>\n",
       "      <td>False</td>\n",
       "      <td>False</td>\n",
       "      <td>False</td>\n",
       "      <td>False</td>\n",
       "      <td>False</td>\n",
       "      <td>False</td>\n",
       "      <td>False</td>\n",
       "    </tr>\n",
       "    <tr>\n",
       "      <th>4</th>\n",
       "      <td>False</td>\n",
       "      <td>False</td>\n",
       "      <td>False</td>\n",
       "      <td>False</td>\n",
       "      <td>False</td>\n",
       "      <td>False</td>\n",
       "      <td>False</td>\n",
       "      <td>False</td>\n",
       "      <td>False</td>\n",
       "      <td>False</td>\n",
       "      <td>True</td>\n",
       "      <td>False</td>\n",
       "      <td>True</td>\n",
       "      <td>False</td>\n",
       "    </tr>\n",
       "    <tr>\n",
       "      <th>...</th>\n",
       "      <td>...</td>\n",
       "      <td>...</td>\n",
       "      <td>...</td>\n",
       "      <td>...</td>\n",
       "      <td>...</td>\n",
       "      <td>...</td>\n",
       "      <td>...</td>\n",
       "      <td>...</td>\n",
       "      <td>...</td>\n",
       "      <td>...</td>\n",
       "      <td>...</td>\n",
       "      <td>...</td>\n",
       "      <td>...</td>\n",
       "      <td>...</td>\n",
       "    </tr>\n",
       "    <tr>\n",
       "      <th>660674</th>\n",
       "      <td>False</td>\n",
       "      <td>False</td>\n",
       "      <td>False</td>\n",
       "      <td>False</td>\n",
       "      <td>False</td>\n",
       "      <td>False</td>\n",
       "      <td>False</td>\n",
       "      <td>False</td>\n",
       "      <td>False</td>\n",
       "      <td>False</td>\n",
       "      <td>False</td>\n",
       "      <td>False</td>\n",
       "      <td>False</td>\n",
       "      <td>False</td>\n",
       "    </tr>\n",
       "    <tr>\n",
       "      <th>660675</th>\n",
       "      <td>False</td>\n",
       "      <td>False</td>\n",
       "      <td>False</td>\n",
       "      <td>False</td>\n",
       "      <td>False</td>\n",
       "      <td>False</td>\n",
       "      <td>False</td>\n",
       "      <td>False</td>\n",
       "      <td>False</td>\n",
       "      <td>False</td>\n",
       "      <td>False</td>\n",
       "      <td>False</td>\n",
       "      <td>False</td>\n",
       "      <td>False</td>\n",
       "    </tr>\n",
       "    <tr>\n",
       "      <th>660676</th>\n",
       "      <td>False</td>\n",
       "      <td>False</td>\n",
       "      <td>False</td>\n",
       "      <td>False</td>\n",
       "      <td>False</td>\n",
       "      <td>False</td>\n",
       "      <td>False</td>\n",
       "      <td>False</td>\n",
       "      <td>False</td>\n",
       "      <td>False</td>\n",
       "      <td>False</td>\n",
       "      <td>False</td>\n",
       "      <td>False</td>\n",
       "      <td>False</td>\n",
       "    </tr>\n",
       "    <tr>\n",
       "      <th>660677</th>\n",
       "      <td>False</td>\n",
       "      <td>False</td>\n",
       "      <td>False</td>\n",
       "      <td>False</td>\n",
       "      <td>False</td>\n",
       "      <td>False</td>\n",
       "      <td>False</td>\n",
       "      <td>False</td>\n",
       "      <td>False</td>\n",
       "      <td>False</td>\n",
       "      <td>False</td>\n",
       "      <td>False</td>\n",
       "      <td>False</td>\n",
       "      <td>False</td>\n",
       "    </tr>\n",
       "    <tr>\n",
       "      <th>660678</th>\n",
       "      <td>False</td>\n",
       "      <td>False</td>\n",
       "      <td>False</td>\n",
       "      <td>False</td>\n",
       "      <td>False</td>\n",
       "      <td>False</td>\n",
       "      <td>False</td>\n",
       "      <td>False</td>\n",
       "      <td>False</td>\n",
       "      <td>False</td>\n",
       "      <td>False</td>\n",
       "      <td>False</td>\n",
       "      <td>False</td>\n",
       "      <td>False</td>\n",
       "    </tr>\n",
       "  </tbody>\n",
       "</table>\n",
       "<p>660679 rows × 14 columns</p>\n",
       "</div>"
      ],
      "text/plain": [
       "        Index  Accident_Severity  Accident Date  Latitude  Light_Conditions  \\\n",
       "0       False              False          False     False             False   \n",
       "1       False              False          False     False             False   \n",
       "2       False              False          False     False             False   \n",
       "3       False              False          False     False             False   \n",
       "4       False              False          False     False             False   \n",
       "...       ...                ...            ...       ...               ...   \n",
       "660674  False              False          False     False             False   \n",
       "660675  False              False          False     False             False   \n",
       "660676  False              False          False     False             False   \n",
       "660677  False              False          False     False             False   \n",
       "660678  False              False          False     False             False   \n",
       "\n",
       "        District Area  Longitude  Number_of_Casualties  Number_of_Vehicles  \\\n",
       "0               False      False                 False               False   \n",
       "1               False      False                 False               False   \n",
       "2               False      False                 False               False   \n",
       "3               False      False                 False               False   \n",
       "4               False      False                 False               False   \n",
       "...               ...        ...                   ...                 ...   \n",
       "660674          False      False                 False               False   \n",
       "660675          False      False                 False               False   \n",
       "660676          False      False                 False               False   \n",
       "660677          False      False                 False               False   \n",
       "660678          False      False                 False               False   \n",
       "\n",
       "        Road_Surface_Conditions  Road_Type  Urban_or_Rural_Area  \\\n",
       "0                         False      False                False   \n",
       "1                         False      False                False   \n",
       "2                         False       True                False   \n",
       "3                         False      False                False   \n",
       "4                         False       True                False   \n",
       "...                         ...        ...                  ...   \n",
       "660674                    False      False                False   \n",
       "660675                    False      False                False   \n",
       "660676                    False      False                False   \n",
       "660677                    False      False                False   \n",
       "660678                    False      False                False   \n",
       "\n",
       "        Weather_Conditions  Vehicle_Type  \n",
       "0                    False         False  \n",
       "1                    False         False  \n",
       "2                     True         False  \n",
       "3                    False         False  \n",
       "4                     True         False  \n",
       "...                    ...           ...  \n",
       "660674               False         False  \n",
       "660675               False         False  \n",
       "660676               False         False  \n",
       "660677               False         False  \n",
       "660678               False         False  \n",
       "\n",
       "[660679 rows x 14 columns]"
      ]
     },
     "execution_count": 5,
     "metadata": {},
     "output_type": "execute_result"
    }
   ],
   "source": [
    "accident.isnull()"
   ]
  },
  {
   "cell_type": "markdown",
   "id": "c1d37687-7789-41d6-89f4-a27ba9ff6526",
   "metadata": {},
   "source": [
    "<h1>Descriptive Analytics</h1>"
   ]
  },
  {
   "cell_type": "code",
   "execution_count": 6,
   "id": "4608eae4-1408-4b30-954f-0a04480a9d2b",
   "metadata": {},
   "outputs": [
    {
     "data": {
      "text/html": [
       "<div>\n",
       "<style scoped>\n",
       "    .dataframe tbody tr th:only-of-type {\n",
       "        vertical-align: middle;\n",
       "    }\n",
       "\n",
       "    .dataframe tbody tr th {\n",
       "        vertical-align: top;\n",
       "    }\n",
       "\n",
       "    .dataframe thead th {\n",
       "        text-align: right;\n",
       "    }\n",
       "</style>\n",
       "<table border=\"1\" class=\"dataframe\">\n",
       "  <thead>\n",
       "    <tr style=\"text-align: right;\">\n",
       "      <th></th>\n",
       "      <th>Latitude</th>\n",
       "      <th>Longitude</th>\n",
       "      <th>Number_of_Casualties</th>\n",
       "      <th>Number_of_Vehicles</th>\n",
       "    </tr>\n",
       "  </thead>\n",
       "  <tbody>\n",
       "    <tr>\n",
       "      <th>count</th>\n",
       "      <td>660654.000000</td>\n",
       "      <td>660653.000000</td>\n",
       "      <td>660679.000000</td>\n",
       "      <td>660679.000000</td>\n",
       "    </tr>\n",
       "    <tr>\n",
       "      <th>mean</th>\n",
       "      <td>52.553866</td>\n",
       "      <td>-1.431210</td>\n",
       "      <td>1.357040</td>\n",
       "      <td>1.831255</td>\n",
       "    </tr>\n",
       "    <tr>\n",
       "      <th>std</th>\n",
       "      <td>1.406922</td>\n",
       "      <td>1.383330</td>\n",
       "      <td>0.824847</td>\n",
       "      <td>0.715269</td>\n",
       "    </tr>\n",
       "    <tr>\n",
       "      <th>min</th>\n",
       "      <td>49.914430</td>\n",
       "      <td>-7.516225</td>\n",
       "      <td>1.000000</td>\n",
       "      <td>1.000000</td>\n",
       "    </tr>\n",
       "    <tr>\n",
       "      <th>25%</th>\n",
       "      <td>51.490690</td>\n",
       "      <td>-2.332291</td>\n",
       "      <td>1.000000</td>\n",
       "      <td>1.000000</td>\n",
       "    </tr>\n",
       "    <tr>\n",
       "      <th>50%</th>\n",
       "      <td>52.315641</td>\n",
       "      <td>-1.411667</td>\n",
       "      <td>1.000000</td>\n",
       "      <td>2.000000</td>\n",
       "    </tr>\n",
       "    <tr>\n",
       "      <th>75%</th>\n",
       "      <td>53.453452</td>\n",
       "      <td>-0.232869</td>\n",
       "      <td>1.000000</td>\n",
       "      <td>2.000000</td>\n",
       "    </tr>\n",
       "    <tr>\n",
       "      <th>max</th>\n",
       "      <td>60.757544</td>\n",
       "      <td>1.762010</td>\n",
       "      <td>68.000000</td>\n",
       "      <td>32.000000</td>\n",
       "    </tr>\n",
       "  </tbody>\n",
       "</table>\n",
       "</div>"
      ],
      "text/plain": [
       "            Latitude      Longitude  Number_of_Casualties  Number_of_Vehicles\n",
       "count  660654.000000  660653.000000         660679.000000       660679.000000\n",
       "mean       52.553866      -1.431210              1.357040            1.831255\n",
       "std         1.406922       1.383330              0.824847            0.715269\n",
       "min        49.914430      -7.516225              1.000000            1.000000\n",
       "25%        51.490690      -2.332291              1.000000            1.000000\n",
       "50%        52.315641      -1.411667              1.000000            2.000000\n",
       "75%        53.453452      -0.232869              1.000000            2.000000\n",
       "max        60.757544       1.762010             68.000000           32.000000"
      ]
     },
     "execution_count": 6,
     "metadata": {},
     "output_type": "execute_result"
    }
   ],
   "source": [
    "accident.describe()"
   ]
  },
  {
   "cell_type": "markdown",
   "id": "b739ac84-41c2-4088-8c85-2379370a4834",
   "metadata": {},
   "source": [
    "<h1>Check DataFrame Info</h1>"
   ]
  },
  {
   "cell_type": "code",
   "execution_count": 7,
   "id": "2e5f0990-d6f7-4e5f-8f9b-75c8941c2727",
   "metadata": {},
   "outputs": [
    {
     "name": "stdout",
     "output_type": "stream",
     "text": [
      "<class 'pandas.core.frame.DataFrame'>\n",
      "RangeIndex: 660679 entries, 0 to 660678\n",
      "Data columns (total 14 columns):\n",
      " #   Column                   Non-Null Count   Dtype  \n",
      "---  ------                   --------------   -----  \n",
      " 0   Index                    660679 non-null  object \n",
      " 1   Accident_Severity        660679 non-null  object \n",
      " 2   Accident Date            660679 non-null  object \n",
      " 3   Latitude                 660654 non-null  float64\n",
      " 4   Light_Conditions         660679 non-null  object \n",
      " 5   District Area            660679 non-null  object \n",
      " 6   Longitude                660653 non-null  float64\n",
      " 7   Number_of_Casualties     660679 non-null  int64  \n",
      " 8   Number_of_Vehicles       660679 non-null  int64  \n",
      " 9   Road_Surface_Conditions  659953 non-null  object \n",
      " 10  Road_Type                656159 non-null  object \n",
      " 11  Urban_or_Rural_Area      660664 non-null  object \n",
      " 12  Weather_Conditions       646551 non-null  object \n",
      " 13  Vehicle_Type             660679 non-null  object \n",
      "dtypes: float64(2), int64(2), object(10)\n",
      "memory usage: 70.6+ MB\n"
     ]
    }
   ],
   "source": [
    "accident.info()"
   ]
  },
  {
   "cell_type": "markdown",
   "id": "002e6ef9-5020-47cf-91b5-0a0bd3ffe911",
   "metadata": {},
   "source": [
    "<h1>Filling Up The Null Values</h1>"
   ]
  },
  {
   "cell_type": "code",
   "execution_count": 8,
   "id": "c27dd518-b4cd-4e3f-a918-d248c91f0cf6",
   "metadata": {},
   "outputs": [
    {
     "data": {
      "text/plain": [
       "Index                          0\n",
       "Accident_Severity              0\n",
       "Accident Date                  0\n",
       "Latitude                      25\n",
       "Light_Conditions               0\n",
       "District Area                  0\n",
       "Longitude                     26\n",
       "Number_of_Casualties           0\n",
       "Number_of_Vehicles             0\n",
       "Road_Surface_Conditions      726\n",
       "Road_Type                   4520\n",
       "Urban_or_Rural_Area           15\n",
       "Weather_Conditions         14128\n",
       "Vehicle_Type                   0\n",
       "dtype: int64"
      ]
     },
     "execution_count": 8,
     "metadata": {},
     "output_type": "execute_result"
    }
   ],
   "source": [
    "accident.isnull().sum()"
   ]
  },
  {
   "cell_type": "code",
   "execution_count": 9,
   "id": "71875927-71bc-42a7-bdeb-ccaf16996386",
   "metadata": {},
   "outputs": [
    {
     "data": {
      "text/plain": [
       "0         51.506187\n",
       "1         51.495029\n",
       "2         51.517715\n",
       "3         51.495478\n",
       "4         51.488576\n",
       "            ...    \n",
       "660674    57.374005\n",
       "660675    57.232273\n",
       "660676    57.585044\n",
       "660677    57.214898\n",
       "660678    57.575210\n",
       "Name: Latitude, Length: 660679, dtype: float64"
      ]
     },
     "execution_count": 9,
     "metadata": {},
     "output_type": "execute_result"
    }
   ],
   "source": [
    "accident['Latitude']"
   ]
  },
  {
   "cell_type": "code",
   "execution_count": 10,
   "id": "777db173-9dbc-4799-8550-9fa0134ebb70",
   "metadata": {},
   "outputs": [
    {
     "data": {
      "text/plain": [
       "np.float64(52.553865761110956)"
      ]
     },
     "execution_count": 10,
     "metadata": {},
     "output_type": "execute_result"
    }
   ],
   "source": [
    "accident['Latitude'].mean()"
   ]
  },
  {
   "cell_type": "code",
   "execution_count": 11,
   "id": "87a959c3-6f14-4db3-beca-65f97c7ccb40",
   "metadata": {},
   "outputs": [],
   "source": [
    "accident['Latitude'] = accident['Latitude'].fillna(accident['Latitude'].mean())"
   ]
  },
  {
   "cell_type": "code",
   "execution_count": 12,
   "id": "d8851151-8106-4e42-b24f-7a915fa57dd8",
   "metadata": {},
   "outputs": [
    {
     "data": {
      "text/plain": [
       "0        -0.209082\n",
       "1        -0.173647\n",
       "2        -0.210215\n",
       "3        -0.202731\n",
       "4        -0.192487\n",
       "            ...   \n",
       "660674   -3.467828\n",
       "660675   -3.809281\n",
       "660676   -3.862727\n",
       "660677   -3.823997\n",
       "660678   -3.895673\n",
       "Name: Longitude, Length: 660679, dtype: float64"
      ]
     },
     "execution_count": 12,
     "metadata": {},
     "output_type": "execute_result"
    }
   ],
   "source": [
    "accident['Longitude']"
   ]
  },
  {
   "cell_type": "code",
   "execution_count": 13,
   "id": "f9e66e9e-63ae-4669-be3a-0545478d17c7",
   "metadata": {},
   "outputs": [
    {
     "data": {
      "text/plain": [
       "np.float64(-1.4312103685020727)"
      ]
     },
     "execution_count": 13,
     "metadata": {},
     "output_type": "execute_result"
    }
   ],
   "source": [
    "accident['Longitude'].mean()"
   ]
  },
  {
   "cell_type": "code",
   "execution_count": 14,
   "id": "cff12afa-6c71-4b41-a8e2-f5838ad70fbf",
   "metadata": {},
   "outputs": [],
   "source": [
    "accident['Longitude'] = accident['Longitude'].fillna(accident['Longitude'].mean())"
   ]
  },
  {
   "cell_type": "code",
   "execution_count": 15,
   "id": "4b3f655b-ccc7-45de-9741-c242731803b3",
   "metadata": {},
   "outputs": [
    {
     "data": {
      "text/plain": [
       "0                  Dry\n",
       "1          Wet or damp\n",
       "2                  Dry\n",
       "3                  Dry\n",
       "4                  Dry\n",
       "              ...     \n",
       "660674             Dry\n",
       "660675    Frost or ice\n",
       "660676    Frost or ice\n",
       "660677     Wet or damp\n",
       "660678     Wet or damp\n",
       "Name: Road_Surface_Conditions, Length: 660679, dtype: object"
      ]
     },
     "execution_count": 15,
     "metadata": {},
     "output_type": "execute_result"
    }
   ],
   "source": [
    "accident['Road_Surface_Conditions']"
   ]
  },
  {
   "cell_type": "code",
   "execution_count": 16,
   "id": "2cb41411-a9d3-48a9-ad15-b493b1f69b89",
   "metadata": {},
   "outputs": [
    {
     "data": {
      "text/plain": [
       "0    Dry\n",
       "Name: Road_Surface_Conditions, dtype: object"
      ]
     },
     "execution_count": 16,
     "metadata": {},
     "output_type": "execute_result"
    }
   ],
   "source": [
    "accident['Road_Surface_Conditions'].mode()"
   ]
  },
  {
   "cell_type": "code",
   "execution_count": 17,
   "id": "edf17dbb-dabb-48ad-b802-73e8a9a79216",
   "metadata": {},
   "outputs": [],
   "source": [
    "accident['Road_Surface_Conditions'] = accident['Road_Surface_Conditions'].fillna(accident['Road_Surface_Conditions'].mode()[0])"
   ]
  },
  {
   "cell_type": "code",
   "execution_count": 18,
   "id": "c0b4cb2b-9a02-4f48-8455-af32861fd7da",
   "metadata": {},
   "outputs": [
    {
     "data": {
      "text/plain": [
       "0         Single carriageway\n",
       "1         Single carriageway\n",
       "2                        NaN\n",
       "3         Single carriageway\n",
       "4                        NaN\n",
       "                 ...        \n",
       "660674    Single carriageway\n",
       "660675    Single carriageway\n",
       "660676    Single carriageway\n",
       "660677    Single carriageway\n",
       "660678      Dual carriageway\n",
       "Name: Road_Type, Length: 660679, dtype: object"
      ]
     },
     "execution_count": 18,
     "metadata": {},
     "output_type": "execute_result"
    }
   ],
   "source": [
    "accident['Road_Type']"
   ]
  },
  {
   "cell_type": "code",
   "execution_count": 19,
   "id": "008ed3e0-f1fd-455e-826e-d97419762758",
   "metadata": {},
   "outputs": [
    {
     "data": {
      "text/plain": [
       "0    Single carriageway\n",
       "Name: Road_Type, dtype: object"
      ]
     },
     "execution_count": 19,
     "metadata": {},
     "output_type": "execute_result"
    }
   ],
   "source": [
    "accident['Road_Type'].mode()"
   ]
  },
  {
   "cell_type": "code",
   "execution_count": 20,
   "id": "ad52842a-786f-4132-a731-7d47abfac188",
   "metadata": {},
   "outputs": [],
   "source": [
    "accident['Road_Type'] = accident['Road_Type'].fillna(accident['Road_Type'].mode()[0])"
   ]
  },
  {
   "cell_type": "code",
   "execution_count": 21,
   "id": "2c3c3559-05c2-4f8f-b033-6e00f114e061",
   "metadata": {},
   "outputs": [
    {
     "data": {
      "text/plain": [
       "0         Urban\n",
       "1         Urban\n",
       "2         Urban\n",
       "3         Urban\n",
       "4         Urban\n",
       "          ...  \n",
       "660674    Rural\n",
       "660675    Rural\n",
       "660676    Rural\n",
       "660677    Rural\n",
       "660678    Rural\n",
       "Name: Urban_or_Rural_Area, Length: 660679, dtype: object"
      ]
     },
     "execution_count": 21,
     "metadata": {},
     "output_type": "execute_result"
    }
   ],
   "source": [
    "accident['Urban_or_Rural_Area']"
   ]
  },
  {
   "cell_type": "code",
   "execution_count": 22,
   "id": "d9bd3a7d-e3b8-40b2-9794-0caf550c0fd4",
   "metadata": {},
   "outputs": [
    {
     "data": {
      "text/plain": [
       "0    Urban\n",
       "Name: Urban_or_Rural_Area, dtype: object"
      ]
     },
     "execution_count": 22,
     "metadata": {},
     "output_type": "execute_result"
    }
   ],
   "source": [
    "accident['Urban_or_Rural_Area'].mode()"
   ]
  },
  {
   "cell_type": "code",
   "execution_count": 23,
   "id": "abde3fb9-e468-4fb0-a366-3e7cae570b3f",
   "metadata": {},
   "outputs": [],
   "source": [
    "accident['Urban_or_Rural_Area'] = accident['Urban_or_Rural_Area'].fillna(accident['Urban_or_Rural_Area'].mode()[0])"
   ]
  },
  {
   "cell_type": "code",
   "execution_count": 24,
   "id": "4a470db2-dc08-4cc7-b3da-eec2834df70b",
   "metadata": {},
   "outputs": [
    {
     "data": {
      "text/plain": [
       "0            Fine no high winds\n",
       "1         Raining no high winds\n",
       "2                           NaN\n",
       "3            Fine no high winds\n",
       "4                           NaN\n",
       "                  ...          \n",
       "660674       Fine no high winds\n",
       "660675       Fine no high winds\n",
       "660676       Fine no high winds\n",
       "660677       Fine no high winds\n",
       "660678    Snowing no high winds\n",
       "Name: Weather_Conditions, Length: 660679, dtype: object"
      ]
     },
     "execution_count": 24,
     "metadata": {},
     "output_type": "execute_result"
    }
   ],
   "source": [
    "accident['Weather_Conditions']"
   ]
  },
  {
   "cell_type": "code",
   "execution_count": 25,
   "id": "e6d3e72c-c0c5-4065-bd85-87efbd2d689b",
   "metadata": {},
   "outputs": [
    {
     "data": {
      "text/plain": [
       "0    Fine no high winds\n",
       "Name: Weather_Conditions, dtype: object"
      ]
     },
     "execution_count": 25,
     "metadata": {},
     "output_type": "execute_result"
    }
   ],
   "source": [
    "accident['Weather_Conditions'].mode()"
   ]
  },
  {
   "cell_type": "code",
   "execution_count": 26,
   "id": "7f63cf90-0267-4d10-a607-0adf107566c0",
   "metadata": {},
   "outputs": [],
   "source": [
    "accident['Weather_Conditions'] = accident['Weather_Conditions'].fillna(accident['Weather_Conditions'].mode()[0])"
   ]
  },
  {
   "cell_type": "code",
   "execution_count": 27,
   "id": "8cf0daa6-52f5-4204-9f2f-593a2d0e3e5e",
   "metadata": {},
   "outputs": [
    {
     "data": {
      "text/plain": [
       "Index                      0\n",
       "Accident_Severity          0\n",
       "Accident Date              0\n",
       "Latitude                   0\n",
       "Light_Conditions           0\n",
       "District Area              0\n",
       "Longitude                  0\n",
       "Number_of_Casualties       0\n",
       "Number_of_Vehicles         0\n",
       "Road_Surface_Conditions    0\n",
       "Road_Type                  0\n",
       "Urban_or_Rural_Area        0\n",
       "Weather_Conditions         0\n",
       "Vehicle_Type               0\n",
       "dtype: int64"
      ]
     },
     "execution_count": 27,
     "metadata": {},
     "output_type": "execute_result"
    }
   ],
   "source": [
    "accident.isnull().sum()"
   ]
  },
  {
   "cell_type": "markdown",
   "id": "a1cd610b-7287-45a2-8f87-05f2c4f944fd",
   "metadata": {},
   "source": [
    "<h1>Changing Dtypes</h1>"
   ]
  },
  {
   "cell_type": "code",
   "execution_count": 28,
   "id": "03500c23-e9a1-465f-92bd-c42b688415a7",
   "metadata": {},
   "outputs": [
    {
     "data": {
      "text/plain": [
       "Index                       object\n",
       "Accident_Severity           object\n",
       "Accident Date               object\n",
       "Latitude                   float64\n",
       "Light_Conditions            object\n",
       "District Area               object\n",
       "Longitude                  float64\n",
       "Number_of_Casualties         int64\n",
       "Number_of_Vehicles           int64\n",
       "Road_Surface_Conditions     object\n",
       "Road_Type                   object\n",
       "Urban_or_Rural_Area         object\n",
       "Weather_Conditions          object\n",
       "Vehicle_Type                object\n",
       "dtype: object"
      ]
     },
     "execution_count": 28,
     "metadata": {},
     "output_type": "execute_result"
    }
   ],
   "source": [
    "accident.dtypes"
   ]
  },
  {
   "cell_type": "code",
   "execution_count": 29,
   "id": "ce9cf958-8206-4d6e-96bf-8958bd689310",
   "metadata": {},
   "outputs": [],
   "source": [
    "accident['Index'] = accident['Index'].astype(\"category\")\n",
    "accident['Accident_Severity'] = accident['Accident_Severity'].astype(\"category\")\n",
    "accident['Accident Date'] = accident['Accident Date'].astype(\"category\")\n",
    "accident['Light_Conditions'] = accident['Light_Conditions'].astype(\"category\")\n",
    "accident['District Area'] = accident['District Area'].astype(\"category\")\n",
    "accident['Road_Surface_Conditions'] = accident['Road_Surface_Conditions'].astype(\"category\")\n",
    "accident['Road_Type'] = accident['Road_Type'].astype(\"category\")\n",
    "accident['Urban_or_Rural_Area'] = accident['Urban_or_Rural_Area'].astype(\"category\")\n",
    "accident['Weather_Conditions'] = accident['Weather_Conditions'].astype(\"category\")\n",
    "accident['Vehicle_Type'] = accident['Vehicle_Type'].astype(\"category\")"
   ]
  },
  {
   "cell_type": "code",
   "execution_count": 77,
   "id": "b13456e5-b46e-4be5-825b-0e7c69d879ae",
   "metadata": {},
   "outputs": [
    {
     "data": {
      "text/plain": [
       "Index                            category\n",
       "Accident_Severity                category\n",
       "Accident Date              datetime64[ns]\n",
       "Latitude                          float64\n",
       "Light_Conditions                 category\n",
       "District Area                    category\n",
       "Longitude                         float64\n",
       "Number_of_Casualties                int64\n",
       "Number_of_Vehicles                  int64\n",
       "Road_Surface_Conditions          category\n",
       "Road_Type                        category\n",
       "Urban_or_Rural_Area              category\n",
       "Weather_Conditions               category\n",
       "Vehicle_Type                     category\n",
       "dtype: object"
      ]
     },
     "execution_count": 77,
     "metadata": {},
     "output_type": "execute_result"
    }
   ],
   "source": [
    "accident.dtypes"
   ]
  },
  {
   "cell_type": "markdown",
   "id": "64e4d0c5-948e-4a70-bbf9-fa84acc60ec6",
   "metadata": {},
   "source": [
    "<h1>Clearing any Inconsistencies with the Data Set</h1>"
   ]
  },
  {
   "cell_type": "code",
   "execution_count": 68,
   "id": "36330142-49bc-4cbc-b0e9-814db22aacbf",
   "metadata": {},
   "outputs": [],
   "source": [
    "accident['Accident Date'] = accident['Accident Date'].str.strip()\n",
    "accident['Accident Date'] = accident['Accident Date'].astype('str')\n",
    "accident['Accident Date'] = accident['Accident Date'].str.replace('/', '-')"
   ]
  },
  {
   "cell_type": "code",
   "execution_count": 76,
   "id": "87edd5a8-b555-453b-abb0-07f16655d815",
   "metadata": {},
   "outputs": [],
   "source": [
    "accident['Accident Date'] = pd.to_datetime(accident['Accident Date'], dayfirst = True, errors = 'coerce')"
   ]
  },
  {
   "cell_type": "markdown",
   "id": "ea7a71aa-48c8-4779-81b5-cce835c5df12",
   "metadata": {},
   "source": [
    "<h1>Extracting date information using pandas date time</h1>"
   ]
  },
  {
   "cell_type": "code",
   "execution_count": 78,
   "id": "43da44e5-14bf-4750-8827-dc36befe5177",
   "metadata": {},
   "outputs": [],
   "source": [
    "accident['Year'] = accident['Accident Date'].dt.year\n",
    "accident['Month'] = accident['Accident Date'].dt.month\n",
    "accident['Day'] = accident['Accident Date'].dt.day\n",
    "accident['DayOfWeek'] = accident['Accident Date'].dt.dayofweek"
   ]
  },
  {
   "cell_type": "code",
   "execution_count": 79,
   "id": "99592d05-b8ad-4eac-9ccd-9063fb3f89e8",
   "metadata": {},
   "outputs": [
    {
     "data": {
      "text/plain": [
       "Index                      0\n",
       "Accident_Severity          0\n",
       "Accident Date              0\n",
       "Latitude                   0\n",
       "Light_Conditions           0\n",
       "District Area              0\n",
       "Longitude                  0\n",
       "Number_of_Casualties       0\n",
       "Number_of_Vehicles         0\n",
       "Road_Surface_Conditions    0\n",
       "Road_Type                  0\n",
       "Urban_or_Rural_Area        0\n",
       "Weather_Conditions         0\n",
       "Vehicle_Type               0\n",
       "Year                       0\n",
       "Month                      0\n",
       "Day                        0\n",
       "DayOfWeek                  0\n",
       "dtype: int64"
      ]
     },
     "execution_count": 79,
     "metadata": {},
     "output_type": "execute_result"
    }
   ],
   "source": [
    "accident.isnull().sum()"
   ]
  },
  {
   "cell_type": "markdown",
   "id": "1e967ef3-939c-4337-9fef-f1b888c6b4e1",
   "metadata": {},
   "source": [
    "<h1>Data Analytics</h1>\n",
    "<h2>UniVariate</h2>\n",
    "<h3>Summary of Accidents in 2019</h3>\n",
    "<h4>Light Conditions</h4\n",
    "<hr>"
   ]
  },
  {
   "cell_type": "markdown",
   "id": "63ffc663-af40-4043-8a06-2f62a556b7fe",
   "metadata": {},
   "source": [
    "<h1>UniVariate Analysis on accident that happened in 2019</h1>"
   ]
  },
  {
   "cell_type": "code",
   "execution_count": 83,
   "id": "3c72953d-f021-4d7c-b165-ae421e44de35",
   "metadata": {},
   "outputs": [],
   "source": [
    "df_2019 = accident[accident['Year'] == 2019]"
   ]
  },
  {
   "cell_type": "code",
   "execution_count": 85,
   "id": "f24562ce-0212-46ed-b06e-36f372516110",
   "metadata": {},
   "outputs": [
    {
     "name": "stdout",
     "output_type": "stream",
     "text": [
      "total of accident in 2019 is 0\n"
     ]
    },
    {
     "data": {
      "text/plain": [
       "Light_Conditions\n",
       "Darkness - lighting unknown    0\n",
       "Darkness - lights lit          0\n",
       "Darkness - lights unlit        0\n",
       "Darkness - no lighting         0\n",
       "Daylight                       0\n",
       "Name: count, dtype: int64"
      ]
     },
     "execution_count": 85,
     "metadata": {},
     "output_type": "execute_result"
    }
   ],
   "source": [
    "print(f\"total of accident in 2019 is {df_2019['Light_Conditions'].value_counts().sum()}\")\n",
    "df_2019['Light_Conditions'].value_counts()"
   ]
  },
  {
   "cell_type": "markdown",
   "id": "94c7025b-7fcb-42dc-8d02-42c9596b2025",
   "metadata": {},
   "source": [
    "<h1>Exploratory Data Analytics</h1>"
   ]
  },
  {
   "cell_type": "code",
   "execution_count": 31,
   "id": "d48731e1-11a2-4154-8b03-bbbdf940bb04",
   "metadata": {},
   "outputs": [
    {
     "data": {
      "text/plain": [
       "Index(['Index', 'Accident_Severity', 'Accident Date', 'Latitude',\n",
       "       'Light_Conditions', 'District Area', 'Longitude',\n",
       "       'Number_of_Casualties', 'Number_of_Vehicles', 'Road_Surface_Conditions',\n",
       "       'Road_Type', 'Urban_or_Rural_Area', 'Weather_Conditions',\n",
       "       'Vehicle_Type'],\n",
       "      dtype='object')"
      ]
     },
     "execution_count": 31,
     "metadata": {},
     "output_type": "execute_result"
    }
   ],
   "source": [
    "accident.columns"
   ]
  },
  {
   "cell_type": "markdown",
   "id": "6bdbc566-bff6-4a5b-9a6f-2a0af7847b34",
   "metadata": {},
   "source": [
    "<hr>\n",
    "<h1>Question 1</h1>\n",
    "<hr>\n",
    "<h3>Does the longitude has corr. in the severity of an accident?</h3>"
   ]
  },
  {
   "cell_type": "code",
   "execution_count": 32,
   "id": "53a4c25f-5e1a-4d51-b56c-eba40b706afd",
   "metadata": {},
   "outputs": [],
   "source": [
    "from scipy.stats import f_oneway"
   ]
  },
  {
   "cell_type": "code",
   "execution_count": 33,
   "id": "16fe3584-43fd-406e-bcaf-14d3b0245b94",
   "metadata": {},
   "outputs": [
    {
     "data": {
      "text/plain": [
       "0         Serious\n",
       "1         Serious\n",
       "2         Serious\n",
       "3         Serious\n",
       "4          Slight\n",
       "           ...   \n",
       "660674     Slight\n",
       "660675     Slight\n",
       "660676     Slight\n",
       "660677    Serious\n",
       "660678    Serious\n",
       "Name: Accident_Severity, Length: 660679, dtype: category\n",
       "Categories (3, object): ['Fatal', 'Serious', 'Slight']"
      ]
     },
     "execution_count": 33,
     "metadata": {},
     "output_type": "execute_result"
    }
   ],
   "source": [
    "accident['Accident_Severity']"
   ]
  },
  {
   "cell_type": "code",
   "execution_count": 34,
   "id": "3c1bc836-4547-4722-91bd-2a0d1d452203",
   "metadata": {},
   "outputs": [
    {
     "data": {
      "text/plain": [
       "0        -0.209082\n",
       "1        -0.173647\n",
       "2        -0.210215\n",
       "3        -0.202731\n",
       "5        -0.192556\n",
       "            ...   \n",
       "660629   -4.176860\n",
       "660645   -1.165232\n",
       "660672   -3.852421\n",
       "660677   -3.823997\n",
       "660678   -3.895673\n",
       "Name: Longitude, Length: 88217, dtype: float64"
      ]
     },
     "execution_count": 34,
     "metadata": {},
     "output_type": "execute_result"
    }
   ],
   "source": [
    "accident[accident['Accident_Severity']== 'Serious']['Longitude']"
   ]
  },
  {
   "cell_type": "code",
   "execution_count": 35,
   "id": "563ed224-29c4-4330-aa4b-601e2acdd133",
   "metadata": {},
   "outputs": [
    {
     "data": {
      "text/plain": [
       "4        -0.192487\n",
       "8        -0.173572\n",
       "9        -0.175651\n",
       "13       -0.210701\n",
       "14       -0.167129\n",
       "            ...   \n",
       "660671   -3.930799\n",
       "660673   -3.748312\n",
       "660674   -3.467828\n",
       "660675   -3.809281\n",
       "660676   -3.862727\n",
       "Name: Longitude, Length: 563801, dtype: float64"
      ]
     },
     "execution_count": 35,
     "metadata": {},
     "output_type": "execute_result"
    }
   ],
   "source": [
    "accident[accident['Accident_Severity']== 'Slight']['Longitude']"
   ]
  },
  {
   "cell_type": "code",
   "execution_count": 36,
   "id": "76de4b46-0c8c-4d5a-ba12-863780df4a30",
   "metadata": {},
   "outputs": [
    {
     "data": {
      "text/plain": [
       "7        -0.179486\n",
       "11       -0.159652\n",
       "20       -0.214277\n",
       "21       -0.170375\n",
       "717      -0.107581\n",
       "            ...   \n",
       "660470   -6.278583\n",
       "660519   -4.451628\n",
       "660565   -4.243081\n",
       "660581   -3.065535\n",
       "660627   -1.409761\n",
       "Name: Longitude, Length: 8661, dtype: float64"
      ]
     },
     "execution_count": 36,
     "metadata": {},
     "output_type": "execute_result"
    }
   ],
   "source": [
    "accident[accident['Accident_Severity']== 'Fatal']['Longitude']"
   ]
  },
  {
   "cell_type": "code",
   "execution_count": 37,
   "id": "6b55a314-194f-4c8e-8532-29b1b5f8a323",
   "metadata": {},
   "outputs": [
    {
     "data": {
      "text/plain": [
       "np.float64(5.6694282604018206e-14)"
      ]
     },
     "execution_count": 37,
     "metadata": {},
     "output_type": "execute_result"
    }
   ],
   "source": [
    "axi, long = f_oneway(accident[accident['Accident_Severity']== 'Fatal']['Longitude'], accident[accident['Accident_Severity']== 'Slight']['Longitude'], accident[accident['Accident_Severity']== 'Serious']['Longitude'])\n",
    "long"
   ]
  },
  {
   "cell_type": "markdown",
   "id": "595bcfc2-f054-46d9-bf61-0b22ba724bdc",
   "metadata": {},
   "source": [
    "<h1>Insight:</h1>\n",
    "<h3>There are a positive correlation between the accident severity and the longitude, this means that the position of the longitude affects the severity of an accident.</h3>\n",
    "<hr>"
   ]
  },
  {
   "cell_type": "markdown",
   "id": "21f42027-2a2c-4e9c-9ee0-46d54da324ce",
   "metadata": {},
   "source": [
    "<h1>Question 2</h1>\n",
    "<hr>\n",
    "<h3>What district has the highest accurrence of accidents?</h3>"
   ]
  },
  {
   "cell_type": "code",
   "execution_count": 38,
   "id": "7940cdb1-d0bf-4116-a00c-46fc9f0c829e",
   "metadata": {},
   "outputs": [
    {
     "data": {
      "text/plain": [
       "District Area\n",
       "Birmingham    13491\n",
       "Name: count, dtype: int64"
      ]
     },
     "execution_count": 38,
     "metadata": {},
     "output_type": "execute_result"
    }
   ],
   "source": [
    "accident['District Area'].value_counts().head(1)"
   ]
  },
  {
   "cell_type": "markdown",
   "id": "30ec0371-5624-45b2-8049-d274475c58f2",
   "metadata": {},
   "source": [
    "<h1>Insight:</h1>\n",
    "<h3>The District Birmingham has the highest accurence of accidents.</h3>\n",
    "<hr>"
   ]
  },
  {
   "cell_type": "markdown",
   "id": "507e7705-3084-478a-807b-bbcd3dd7b7f6",
   "metadata": {},
   "source": [
    "<h1>Question 3</h1>\n",
    "<hr>\n",
    "<h3>Which accident severity happens most often?</h3>"
   ]
  },
  {
   "cell_type": "code",
   "execution_count": 39,
   "id": "ecf72184-45d0-4505-85d1-b02c39d70836",
   "metadata": {},
   "outputs": [
    {
     "data": {
      "text/plain": [
       "Accident_Severity\n",
       "Slight    563801\n",
       "Name: count, dtype: int64"
      ]
     },
     "execution_count": 39,
     "metadata": {},
     "output_type": "execute_result"
    }
   ],
   "source": [
    "accident['Accident_Severity'].value_counts().head(1)"
   ]
  },
  {
   "cell_type": "markdown",
   "id": "cfb3ee58-81da-4718-829f-9fb67299c861",
   "metadata": {},
   "source": [
    "<h1>Insight:</h1>\n",
    "<h3>Slight Accidents happens most of the time.</h3>\n",
    "<hr>"
   ]
  },
  {
   "cell_type": "markdown",
   "id": "14946476-8a83-4b94-a30e-50a5808f14a2",
   "metadata": {},
   "source": [
    "<h1>Question 4</h1>\n",
    "<hr>\n",
    "<h3>Do accident severities change depending on the weather conditions?</h3>"
   ]
  },
  {
   "cell_type": "code",
   "execution_count": 40,
   "id": "6ae5e1c0-eeba-4464-a515-072c730a165f",
   "metadata": {},
   "outputs": [
    {
     "data": {
      "text/html": [
       "<div>\n",
       "<style scoped>\n",
       "    .dataframe tbody tr th:only-of-type {\n",
       "        vertical-align: middle;\n",
       "    }\n",
       "\n",
       "    .dataframe tbody tr th {\n",
       "        vertical-align: top;\n",
       "    }\n",
       "\n",
       "    .dataframe thead th {\n",
       "        text-align: right;\n",
       "    }\n",
       "</style>\n",
       "<table border=\"1\" class=\"dataframe\">\n",
       "  <thead>\n",
       "    <tr style=\"text-align: right;\">\n",
       "      <th>Accident_Severity</th>\n",
       "      <th>Fatal</th>\n",
       "      <th>Serious</th>\n",
       "      <th>Slight</th>\n",
       "    </tr>\n",
       "    <tr>\n",
       "      <th>Weather_Conditions</th>\n",
       "      <th></th>\n",
       "      <th></th>\n",
       "      <th></th>\n",
       "    </tr>\n",
       "  </thead>\n",
       "  <tbody>\n",
       "    <tr>\n",
       "      <th>Fine + high winds</th>\n",
       "      <td>175</td>\n",
       "      <td>1245</td>\n",
       "      <td>7134</td>\n",
       "    </tr>\n",
       "    <tr>\n",
       "      <th>Fine no high winds</th>\n",
       "      <td>7207</td>\n",
       "      <td>73285</td>\n",
       "      <td>454521</td>\n",
       "    </tr>\n",
       "    <tr>\n",
       "      <th>Fog or mist</th>\n",
       "      <td>82</td>\n",
       "      <td>483</td>\n",
       "      <td>2963</td>\n",
       "    </tr>\n",
       "    <tr>\n",
       "      <th>Other</th>\n",
       "      <td>165</td>\n",
       "      <td>1801</td>\n",
       "      <td>15184</td>\n",
       "    </tr>\n",
       "    <tr>\n",
       "      <th>Raining + high winds</th>\n",
       "      <td>145</td>\n",
       "      <td>1261</td>\n",
       "      <td>8209</td>\n",
       "    </tr>\n",
       "    <tr>\n",
       "      <th>Raining no high winds</th>\n",
       "      <td>848</td>\n",
       "      <td>9468</td>\n",
       "      <td>69380</td>\n",
       "    </tr>\n",
       "    <tr>\n",
       "      <th>Snowing + high winds</th>\n",
       "      <td>3</td>\n",
       "      <td>109</td>\n",
       "      <td>773</td>\n",
       "    </tr>\n",
       "    <tr>\n",
       "      <th>Snowing no high winds</th>\n",
       "      <td>36</td>\n",
       "      <td>565</td>\n",
       "      <td>5637</td>\n",
       "    </tr>\n",
       "  </tbody>\n",
       "</table>\n",
       "</div>"
      ],
      "text/plain": [
       "Accident_Severity      Fatal  Serious  Slight\n",
       "Weather_Conditions                           \n",
       "Fine + high winds        175     1245    7134\n",
       "Fine no high winds      7207    73285  454521\n",
       "Fog or mist               82      483    2963\n",
       "Other                    165     1801   15184\n",
       "Raining + high winds     145     1261    8209\n",
       "Raining no high winds    848     9468   69380\n",
       "Snowing + high winds       3      109     773\n",
       "Snowing no high winds     36      565    5637"
      ]
     },
     "execution_count": 40,
     "metadata": {},
     "output_type": "execute_result"
    }
   ],
   "source": [
    "severity = accident.groupby(['Weather_Conditions', 'Accident_Severity']).size().unstack(fill_value=0)\n",
    "severity"
   ]
  },
  {
   "cell_type": "markdown",
   "id": "b4f796a0-77b5-4973-9689-8042046edfd3",
   "metadata": {},
   "source": [
    "<h1>Insight:</h1>\n",
    "<h3>Weather Conditions plays a significant role in the severity of an accident.</h3>\n",
    "<hr>"
   ]
  },
  {
   "cell_type": "markdown",
   "id": "fc45844b-c3d6-44c7-9372-9968ba4a646a",
   "metadata": {},
   "source": [
    "<h1>Question 5</h1>\n",
    "<hr>\n",
    "<h3>Are accidents more common in urban or rural areas?</h3>"
   ]
  },
  {
   "cell_type": "code",
   "execution_count": 41,
   "id": "96943848-4855-4f36-a05e-c837f008be65",
   "metadata": {},
   "outputs": [
    {
     "data": {
      "text/plain": [
       "Urban_or_Rural_Area\n",
       "Urban          421678\n",
       "Rural          238990\n",
       "Unallocated        11\n",
       "Name: count, dtype: int64"
      ]
     },
     "execution_count": 41,
     "metadata": {},
     "output_type": "execute_result"
    }
   ],
   "source": [
    "accident['Urban_or_Rural_Area'].value_counts()"
   ]
  },
  {
   "cell_type": "markdown",
   "id": "6b7e2467-5782-4042-bb74-94718707ce91",
   "metadata": {},
   "source": [
    "<h1>Insight:</h1>\n",
    "<h3>Accidents often happens in Urban Areas.</h3>\n",
    "<hr>"
   ]
  },
  {
   "cell_type": "markdown",
   "id": "18be7785-51e8-4d48-94e7-0c37cd17ca90",
   "metadata": {},
   "source": [
    "<h1>Question 6</h1>\n",
    "<hr>\n",
    "<h3>Which vehicle type has the most casulties?</h3>"
   ]
  },
  {
   "cell_type": "code",
   "execution_count": 42,
   "id": "87c9d6b3-2110-4ad3-a44e-0da5c093ffa5",
   "metadata": {},
   "outputs": [
    {
     "data": {
      "text/plain": [
       "Vehicle_Type\n",
       "Agricultural vehicle                       2613\n",
       "Bus or coach (17 or more pass seats)      34915\n",
       "Car                                      676692\n",
       "Data missing or out of range                  9\n",
       "Goods 7.5 tonnes mgw and over             23397\n",
       "Goods over 3.5t. and under 7.5t            8308\n",
       "Minibus (8 - 16 passenger seats)           2659\n",
       "Motorcycle 125cc and under                20348\n",
       "Motorcycle 50cc and under                 10167\n",
       "Motorcycle over 125cc and up to 500cc     10286\n",
       "Motorcycle over 500cc                     34879\n",
       "Other vehicle                              7554\n",
       "Pedal cycle                                 270\n",
       "Ridden horse                                  5\n",
       "Taxi/Private hire car                     18195\n",
       "Van / Goods 3.5 tonnes mgw or under       46271\n",
       "Name: Number_of_Casualties, dtype: int64"
      ]
     },
     "execution_count": 42,
     "metadata": {},
     "output_type": "execute_result"
    }
   ],
   "source": [
    "vehicle = accident.groupby('Vehicle_Type')['Number_of_Casualties'].sum()\n",
    "vehicle"
   ]
  },
  {
   "cell_type": "markdown",
   "id": "c0bdf23e-4833-4ef3-bd1d-9d6693527859",
   "metadata": {},
   "source": [
    "<h1>Insight:</h1>\n",
    "<h3>The data shows that cars contribute the most casualties.</h3>\n",
    "<hr>"
   ]
  },
  {
   "cell_type": "markdown",
   "id": "94795222-4364-4ae1-84d8-52f38afcfc2c",
   "metadata": {},
   "source": [
    "<h1>Question 7</h1>\n",
    "<hr>\n",
    "<h3>Does the number of vehicles have to do with the number of casualties?</h3>"
   ]
  },
  {
   "cell_type": "code",
   "execution_count": 43,
   "id": "8da0cf07-e092-4398-a79d-5f2380244d75",
   "metadata": {},
   "outputs": [
    {
     "data": {
      "text/plain": [
       "np.float64(0.2288888612692756)"
      ]
     },
     "execution_count": 43,
     "metadata": {},
     "output_type": "execute_result"
    }
   ],
   "source": [
    "accident['Number_of_Casualties'].corr(accident['Number_of_Vehicles'])"
   ]
  },
  {
   "cell_type": "markdown",
   "id": "f21ad837-9782-4394-8dc7-a83037d912ef",
   "metadata": {},
   "source": [
    "<h1>Insight:</h1>\n",
    "<h3>There is a positive correlation between number of vehicles and number of casualties, this means if one increases the other one tends to also increase.</h3>\n",
    "<hr>"
   ]
  },
  {
   "cell_type": "markdown",
   "id": "3428b959-ea3b-4e0c-82db-3c0416333a07",
   "metadata": {},
   "source": [
    "<h1>Question 8</h1>\n",
    "<hr>\n",
    "<h3>Do light conditions affect accident severity?</h3>"
   ]
  },
  {
   "cell_type": "code",
   "execution_count": 44,
   "id": "49a6839f-6a22-46ed-bab5-c779a500ce56",
   "metadata": {},
   "outputs": [
    {
     "data": {
      "text/html": [
       "<div>\n",
       "<style scoped>\n",
       "    .dataframe tbody tr th:only-of-type {\n",
       "        vertical-align: middle;\n",
       "    }\n",
       "\n",
       "    .dataframe tbody tr th {\n",
       "        vertical-align: top;\n",
       "    }\n",
       "\n",
       "    .dataframe thead th {\n",
       "        text-align: right;\n",
       "    }\n",
       "</style>\n",
       "<table border=\"1\" class=\"dataframe\">\n",
       "  <thead>\n",
       "    <tr style=\"text-align: right;\">\n",
       "      <th>Accident_Severity</th>\n",
       "      <th>Fatal</th>\n",
       "      <th>Serious</th>\n",
       "      <th>Slight</th>\n",
       "    </tr>\n",
       "    <tr>\n",
       "      <th>Light_Conditions</th>\n",
       "      <th></th>\n",
       "      <th></th>\n",
       "      <th></th>\n",
       "    </tr>\n",
       "  </thead>\n",
       "  <tbody>\n",
       "    <tr>\n",
       "      <th>Darkness - lighting unknown</th>\n",
       "      <td>68</td>\n",
       "      <td>794</td>\n",
       "      <td>5622</td>\n",
       "    </tr>\n",
       "    <tr>\n",
       "      <th>Darkness - lights lit</th>\n",
       "      <td>1860</td>\n",
       "      <td>19130</td>\n",
       "      <td>108345</td>\n",
       "    </tr>\n",
       "    <tr>\n",
       "      <th>Darkness - lights unlit</th>\n",
       "      <td>45</td>\n",
       "      <td>360</td>\n",
       "      <td>2138</td>\n",
       "    </tr>\n",
       "    <tr>\n",
       "      <th>Darkness - no lighting</th>\n",
       "      <td>1612</td>\n",
       "      <td>7174</td>\n",
       "      <td>28651</td>\n",
       "    </tr>\n",
       "    <tr>\n",
       "      <th>Daylight</th>\n",
       "      <td>5076</td>\n",
       "      <td>60759</td>\n",
       "      <td>419045</td>\n",
       "    </tr>\n",
       "  </tbody>\n",
       "</table>\n",
       "</div>"
      ],
      "text/plain": [
       "Accident_Severity            Fatal  Serious  Slight\n",
       "Light_Conditions                                   \n",
       "Darkness - lighting unknown     68      794    5622\n",
       "Darkness - lights lit         1860    19130  108345\n",
       "Darkness - lights unlit         45      360    2138\n",
       "Darkness - no lighting        1612     7174   28651\n",
       "Daylight                      5076    60759  419045"
      ]
     },
     "execution_count": 44,
     "metadata": {},
     "output_type": "execute_result"
    }
   ],
   "source": [
    "con = accident.groupby(['Light_Conditions', 'Accident_Severity']).size().unstack(fill_value=0)\n",
    "con"
   ]
  },
  {
   "cell_type": "markdown",
   "id": "f5ad18bd-4246-4d20-9b5a-2da31a7e9f81",
   "metadata": {},
   "source": [
    "<h1>Insight:</h1>\n",
    "<h3>The light conditions affects the severity of an accident, when it is dark—there are more accidents.</h3>\n",
    "<hr>"
   ]
  },
  {
   "cell_type": "markdown",
   "id": "cd0866db-82f6-42b9-a810-462154f97665",
   "metadata": {},
   "source": [
    "<h1>Question 9</h1>\n",
    "<hr>\n",
    "<h3>Does road surface affects the severity of an accident?</h3>"
   ]
  },
  {
   "cell_type": "code",
   "execution_count": 45,
   "id": "7c88244d-0cf7-4ec5-a384-854e51ebe65e",
   "metadata": {},
   "outputs": [
    {
     "data": {
      "text/html": [
       "<div>\n",
       "<style scoped>\n",
       "    .dataframe tbody tr th:only-of-type {\n",
       "        vertical-align: middle;\n",
       "    }\n",
       "\n",
       "    .dataframe tbody tr th {\n",
       "        vertical-align: top;\n",
       "    }\n",
       "\n",
       "    .dataframe thead th {\n",
       "        text-align: right;\n",
       "    }\n",
       "</style>\n",
       "<table border=\"1\" class=\"dataframe\">\n",
       "  <thead>\n",
       "    <tr style=\"text-align: right;\">\n",
       "      <th>Accident_Severity</th>\n",
       "      <th>Fatal</th>\n",
       "      <th>Serious</th>\n",
       "      <th>Slight</th>\n",
       "    </tr>\n",
       "    <tr>\n",
       "      <th>Road_Surface_Conditions</th>\n",
       "      <th></th>\n",
       "      <th></th>\n",
       "      <th></th>\n",
       "    </tr>\n",
       "  </thead>\n",
       "  <tbody>\n",
       "    <tr>\n",
       "      <th>Dry</th>\n",
       "      <td>5790</td>\n",
       "      <td>61708</td>\n",
       "      <td>381049</td>\n",
       "    </tr>\n",
       "    <tr>\n",
       "      <th>Flood over 3cm. deep</th>\n",
       "      <td>23</td>\n",
       "      <td>152</td>\n",
       "      <td>842</td>\n",
       "    </tr>\n",
       "    <tr>\n",
       "      <th>Frost or ice</th>\n",
       "      <td>193</td>\n",
       "      <td>2007</td>\n",
       "      <td>16317</td>\n",
       "    </tr>\n",
       "    <tr>\n",
       "      <th>Snow</th>\n",
       "      <td>35</td>\n",
       "      <td>565</td>\n",
       "      <td>5290</td>\n",
       "    </tr>\n",
       "    <tr>\n",
       "      <th>Wet or damp</th>\n",
       "      <td>2620</td>\n",
       "      <td>23785</td>\n",
       "      <td>160303</td>\n",
       "    </tr>\n",
       "  </tbody>\n",
       "</table>\n",
       "</div>"
      ],
      "text/plain": [
       "Accident_Severity        Fatal  Serious  Slight\n",
       "Road_Surface_Conditions                        \n",
       "Dry                       5790    61708  381049\n",
       "Flood over 3cm. deep        23      152     842\n",
       "Frost or ice               193     2007   16317\n",
       "Snow                        35      565    5290\n",
       "Wet or damp               2620    23785  160303"
      ]
     },
     "execution_count": 45,
     "metadata": {},
     "output_type": "execute_result"
    }
   ],
   "source": [
    "surface = accident.groupby(['Road_Surface_Conditions', 'Accident_Severity']).size().unstack(fill_value=0)\n",
    "surface"
   ]
  },
  {
   "cell_type": "markdown",
   "id": "f674b18b-6585-48b3-8a64-d5cfc784fdd6",
   "metadata": {},
   "source": [
    "<h1>Insight:</h1>\n",
    "<h3>The road surface has an affect to the severity of an accident.</h3>\n",
    "<hr>"
   ]
  },
  {
   "cell_type": "markdown",
   "id": "697de44b-5a58-44fa-862f-e98535d7da0d",
   "metadata": {},
   "source": [
    "<h1>Question 10</h1>\n",
    "<hr>\n",
    "<h3>Which road type has higher accurence of an accident?</h3>"
   ]
  },
  {
   "cell_type": "code",
   "execution_count": 46,
   "id": "903f9ae6-6651-4f53-b0cd-4bdaa4452ccb",
   "metadata": {},
   "outputs": [
    {
     "data": {
      "text/plain": [
       "Road_Type\n",
       "Single carriageway    496663\n",
       "Dual carriageway       99424\n",
       "Roundabout             43992\n",
       "One way street         13559\n",
       "Slip road               7041\n",
       "Name: count, dtype: int64"
      ]
     },
     "execution_count": 46,
     "metadata": {},
     "output_type": "execute_result"
    }
   ],
   "source": [
    "accident['Road_Type'].value_counts().head(5)"
   ]
  },
  {
   "cell_type": "markdown",
   "id": "eeb52d4f-2f7f-4d29-9a6b-f6bcedc55985",
   "metadata": {},
   "source": [
    "<h1>Insight:</h1>\n",
    "<h3>Accidents are most frequent on single carriageway roads probably due to their heavy use.</h3>\n",
    "<hr>"
   ]
  },
  {
   "cell_type": "markdown",
   "id": "7ca35390-a278-4bb0-a6f2-f52acffa2855",
   "metadata": {},
   "source": [
    "<h1>Question 11</h1>\n",
    "<hr>\n",
    "<h3>Is there a district that consistently shows higher accident severity regardless of conditions?</h3>"
   ]
  },
  {
   "cell_type": "code",
   "execution_count": 47,
   "id": "d0c6d991-3c90-452a-a422-428dc0f53096",
   "metadata": {},
   "outputs": [
    {
     "data": {
      "text/html": [
       "<div>\n",
       "<style scoped>\n",
       "    .dataframe tbody tr th:only-of-type {\n",
       "        vertical-align: middle;\n",
       "    }\n",
       "\n",
       "    .dataframe tbody tr th {\n",
       "        vertical-align: top;\n",
       "    }\n",
       "\n",
       "    .dataframe thead th {\n",
       "        text-align: right;\n",
       "    }\n",
       "</style>\n",
       "<table border=\"1\" class=\"dataframe\">\n",
       "  <thead>\n",
       "    <tr style=\"text-align: right;\">\n",
       "      <th></th>\n",
       "      <th>Weather_Conditions</th>\n",
       "      <th>Fine + high winds</th>\n",
       "      <th>Fine no high winds</th>\n",
       "      <th>Fog or mist</th>\n",
       "      <th>Other</th>\n",
       "      <th>Raining + high winds</th>\n",
       "      <th>Raining no high winds</th>\n",
       "      <th>Snowing + high winds</th>\n",
       "      <th>Snowing no high winds</th>\n",
       "    </tr>\n",
       "    <tr>\n",
       "      <th>District Area</th>\n",
       "      <th>Accident_Severity</th>\n",
       "      <th></th>\n",
       "      <th></th>\n",
       "      <th></th>\n",
       "      <th></th>\n",
       "      <th></th>\n",
       "      <th></th>\n",
       "      <th></th>\n",
       "      <th></th>\n",
       "    </tr>\n",
       "  </thead>\n",
       "  <tbody>\n",
       "    <tr>\n",
       "      <th rowspan=\"3\" valign=\"top\">Aberdeen City</th>\n",
       "      <th>Fatal</th>\n",
       "      <td>2</td>\n",
       "      <td>9</td>\n",
       "      <td>0</td>\n",
       "      <td>0</td>\n",
       "      <td>0</td>\n",
       "      <td>1</td>\n",
       "      <td>0</td>\n",
       "      <td>0</td>\n",
       "    </tr>\n",
       "    <tr>\n",
       "      <th>Serious</th>\n",
       "      <td>3</td>\n",
       "      <td>189</td>\n",
       "      <td>1</td>\n",
       "      <td>4</td>\n",
       "      <td>3</td>\n",
       "      <td>37</td>\n",
       "      <td>0</td>\n",
       "      <td>2</td>\n",
       "    </tr>\n",
       "    <tr>\n",
       "      <th>Slight</th>\n",
       "      <td>21</td>\n",
       "      <td>851</td>\n",
       "      <td>5</td>\n",
       "      <td>12</td>\n",
       "      <td>25</td>\n",
       "      <td>144</td>\n",
       "      <td>3</td>\n",
       "      <td>11</td>\n",
       "    </tr>\n",
       "    <tr>\n",
       "      <th rowspan=\"2\" valign=\"top\">Aberdeenshire</th>\n",
       "      <th>Fatal</th>\n",
       "      <td>2</td>\n",
       "      <td>50</td>\n",
       "      <td>0</td>\n",
       "      <td>0</td>\n",
       "      <td>1</td>\n",
       "      <td>12</td>\n",
       "      <td>1</td>\n",
       "      <td>0</td>\n",
       "    </tr>\n",
       "    <tr>\n",
       "      <th>Serious</th>\n",
       "      <td>15</td>\n",
       "      <td>363</td>\n",
       "      <td>7</td>\n",
       "      <td>2</td>\n",
       "      <td>12</td>\n",
       "      <td>57</td>\n",
       "      <td>1</td>\n",
       "      <td>6</td>\n",
       "    </tr>\n",
       "    <tr>\n",
       "      <th>...</th>\n",
       "      <th>...</th>\n",
       "      <td>...</td>\n",
       "      <td>...</td>\n",
       "      <td>...</td>\n",
       "      <td>...</td>\n",
       "      <td>...</td>\n",
       "      <td>...</td>\n",
       "      <td>...</td>\n",
       "      <td>...</td>\n",
       "    </tr>\n",
       "    <tr>\n",
       "      <th rowspan=\"2\" valign=\"top\">Wyre Forest</th>\n",
       "      <th>Serious</th>\n",
       "      <td>1</td>\n",
       "      <td>117</td>\n",
       "      <td>0</td>\n",
       "      <td>0</td>\n",
       "      <td>0</td>\n",
       "      <td>12</td>\n",
       "      <td>0</td>\n",
       "      <td>2</td>\n",
       "    </tr>\n",
       "    <tr>\n",
       "      <th>Slight</th>\n",
       "      <td>6</td>\n",
       "      <td>681</td>\n",
       "      <td>2</td>\n",
       "      <td>10</td>\n",
       "      <td>1</td>\n",
       "      <td>107</td>\n",
       "      <td>0</td>\n",
       "      <td>8</td>\n",
       "    </tr>\n",
       "    <tr>\n",
       "      <th rowspan=\"3\" valign=\"top\">York</th>\n",
       "      <th>Fatal</th>\n",
       "      <td>0</td>\n",
       "      <td>19</td>\n",
       "      <td>0</td>\n",
       "      <td>0</td>\n",
       "      <td>0</td>\n",
       "      <td>2</td>\n",
       "      <td>0</td>\n",
       "      <td>0</td>\n",
       "    </tr>\n",
       "    <tr>\n",
       "      <th>Serious</th>\n",
       "      <td>3</td>\n",
       "      <td>216</td>\n",
       "      <td>1</td>\n",
       "      <td>2</td>\n",
       "      <td>2</td>\n",
       "      <td>27</td>\n",
       "      <td>0</td>\n",
       "      <td>4</td>\n",
       "    </tr>\n",
       "    <tr>\n",
       "      <th>Slight</th>\n",
       "      <td>19</td>\n",
       "      <td>1362</td>\n",
       "      <td>5</td>\n",
       "      <td>46</td>\n",
       "      <td>15</td>\n",
       "      <td>159</td>\n",
       "      <td>1</td>\n",
       "      <td>14</td>\n",
       "    </tr>\n",
       "  </tbody>\n",
       "</table>\n",
       "<p>1266 rows × 8 columns</p>\n",
       "</div>"
      ],
      "text/plain": [
       "Weather_Conditions               Fine + high winds  Fine no high winds  \\\n",
       "District Area Accident_Severity                                          \n",
       "Aberdeen City Fatal                              2                   9   \n",
       "              Serious                            3                 189   \n",
       "              Slight                            21                 851   \n",
       "Aberdeenshire Fatal                              2                  50   \n",
       "              Serious                           15                 363   \n",
       "...                                            ...                 ...   \n",
       "Wyre Forest   Serious                            1                 117   \n",
       "              Slight                             6                 681   \n",
       "York          Fatal                              0                  19   \n",
       "              Serious                            3                 216   \n",
       "              Slight                            19                1362   \n",
       "\n",
       "Weather_Conditions               Fog or mist  Other  Raining + high winds  \\\n",
       "District Area Accident_Severity                                             \n",
       "Aberdeen City Fatal                        0      0                     0   \n",
       "              Serious                      1      4                     3   \n",
       "              Slight                       5     12                    25   \n",
       "Aberdeenshire Fatal                        0      0                     1   \n",
       "              Serious                      7      2                    12   \n",
       "...                                      ...    ...                   ...   \n",
       "Wyre Forest   Serious                      0      0                     0   \n",
       "              Slight                       2     10                     1   \n",
       "York          Fatal                        0      0                     0   \n",
       "              Serious                      1      2                     2   \n",
       "              Slight                       5     46                    15   \n",
       "\n",
       "Weather_Conditions               Raining no high winds  Snowing + high winds  \\\n",
       "District Area Accident_Severity                                                \n",
       "Aberdeen City Fatal                                  1                     0   \n",
       "              Serious                               37                     0   \n",
       "              Slight                               144                     3   \n",
       "Aberdeenshire Fatal                                 12                     1   \n",
       "              Serious                               57                     1   \n",
       "...                                                ...                   ...   \n",
       "Wyre Forest   Serious                               12                     0   \n",
       "              Slight                               107                     0   \n",
       "York          Fatal                                  2                     0   \n",
       "              Serious                               27                     0   \n",
       "              Slight                               159                     1   \n",
       "\n",
       "Weather_Conditions               Snowing no high winds  \n",
       "District Area Accident_Severity                         \n",
       "Aberdeen City Fatal                                  0  \n",
       "              Serious                                2  \n",
       "              Slight                                11  \n",
       "Aberdeenshire Fatal                                  0  \n",
       "              Serious                                6  \n",
       "...                                                ...  \n",
       "Wyre Forest   Serious                                2  \n",
       "              Slight                                 8  \n",
       "York          Fatal                                  0  \n",
       "              Serious                                4  \n",
       "              Slight                                14  \n",
       "\n",
       "[1266 rows x 8 columns]"
      ]
     },
     "execution_count": 47,
     "metadata": {},
     "output_type": "execute_result"
    }
   ],
   "source": [
    "check_conditions = accident.groupby(['District Area', 'Accident_Severity', 'Weather_Conditions']).size().unstack(fill_value=0)\n",
    "check_conditions"
   ]
  },
  {
   "cell_type": "markdown",
   "id": "6fb86d67-3864-4f8c-b83e-09ae0e7d62d3",
   "metadata": {},
   "source": [
    "<h1>Insight:</h1>\n",
    "<h3>Districk York consistently shows a high severity accidents regarless of conditions.</h3>\n",
    "<hr>"
   ]
  },
  {
   "cell_type": "markdown",
   "id": "82d6eabd-a40b-45d2-9073-d1a70dea3509",
   "metadata": {},
   "source": [
    "<h1>Question 12</h1>\n",
    "<hr>\n",
    "<h3>Does the type of road influence the likelihood of fatal accidents?</h3>"
   ]
  },
  {
   "cell_type": "code",
   "execution_count": 48,
   "id": "0e31a8c3-18e4-46cf-8ab7-5fe596ca624b",
   "metadata": {},
   "outputs": [
    {
     "data": {
      "text/plain": [
       "Road_Type           Accident_Severity\n",
       "Dual carriageway    Slight               0.863604\n",
       "                    Serious              0.118140\n",
       "                    Fatal                0.018255\n",
       "One way street      Slight               0.870934\n",
       "                    Serious              0.122059\n",
       "                    Fatal                0.007006\n",
       "Roundabout          Slight               0.913462\n",
       "                    Serious              0.083311\n",
       "                    Fatal                0.003228\n",
       "Single carriageway  Slight               0.844764\n",
       "                    Serious              0.142028\n",
       "                    Fatal                0.013208\n",
       "Slip road           Slight               0.906263\n",
       "                    Serious              0.086777\n",
       "                    Fatal                0.006959\n",
       "Name: proportion, dtype: float64"
      ]
     },
     "execution_count": 48,
     "metadata": {},
     "output_type": "execute_result"
    }
   ],
   "source": [
    "road_vs_severity = (accident.groupby('Road_Type')['Accident_Severity'].value_counts(normalize=True))\n",
    "road_vs_severity"
   ]
  },
  {
   "cell_type": "markdown",
   "id": "a72252db-b5b3-4ad3-b0b5-37119fabc6ca",
   "metadata": {},
   "source": [
    "<h1>Insight:</h1>\n",
    "<h3>Type of roads influences the fatalities of an accidents, althought there is some that is affected by it, the chances are low.</h3>\n",
    "<hr>"
   ]
  },
  {
   "cell_type": "markdown",
   "id": "cc4bd7b6-5f4f-42b4-93dd-aa4a2d6b49d1",
   "metadata": {},
   "source": [
    "<h1>Question 13</h1>\n",
    "<hr>\n",
    "<h3>Does latitude has an effect on weather conditions?</h3>"
   ]
  },
  {
   "cell_type": "code",
   "execution_count": 49,
   "id": "b7c302b2-a087-4f42-995d-4cb8c20d520b",
   "metadata": {},
   "outputs": [
    {
     "data": {
      "text/plain": [
       "Weather_Conditions\n",
       "Fine no high winds       535013\n",
       "Raining no high winds     79696\n",
       "Other                     17150\n",
       "Raining + high winds       9615\n",
       "Fine + high winds          8554\n",
       "Snowing no high winds      6238\n",
       "Fog or mist                3528\n",
       "Snowing + high winds        885\n",
       "Name: count, dtype: int64"
      ]
     },
     "execution_count": 49,
     "metadata": {},
     "output_type": "execute_result"
    }
   ],
   "source": [
    "accident['Weather_Conditions'].value_counts()"
   ]
  },
  {
   "cell_type": "code",
   "execution_count": 50,
   "id": "cc597aca-acef-4137-bd53-236ff808f5ed",
   "metadata": {},
   "outputs": [
    {
     "data": {
      "text/plain": [
       "0         51.506187\n",
       "2         51.517715\n",
       "3         51.495478\n",
       "4         51.488576\n",
       "5         51.497750\n",
       "            ...    \n",
       "660673    57.585152\n",
       "660674    57.374005\n",
       "660675    57.232273\n",
       "660676    57.585044\n",
       "660677    57.214898\n",
       "Name: Latitude, Length: 535013, dtype: float64"
      ]
     },
     "execution_count": 50,
     "metadata": {},
     "output_type": "execute_result"
    }
   ],
   "source": [
    "accident[accident['Weather_Conditions']== 'Fine no high winds']['Latitude']"
   ]
  },
  {
   "cell_type": "code",
   "execution_count": 51,
   "id": "6a01c9d0-e813-430b-86c9-eca6e081bf72",
   "metadata": {},
   "outputs": [
    {
     "data": {
      "text/plain": [
       "1         51.495029\n",
       "18        51.497590\n",
       "24        51.498157\n",
       "27        51.490526\n",
       "28        51.513352\n",
       "            ...    \n",
       "660622    59.067516\n",
       "660636    60.368948\n",
       "660644    60.254095\n",
       "660646    60.148990\n",
       "660663    56.865367\n",
       "Name: Latitude, Length: 79696, dtype: float64"
      ]
     },
     "execution_count": 51,
     "metadata": {},
     "output_type": "execute_result"
    }
   ],
   "source": [
    "accident[accident['Weather_Conditions']== 'Raining no high winds']['Latitude']"
   ]
  },
  {
   "cell_type": "code",
   "execution_count": 52,
   "id": "cb2cc0d6-b5ef-4fac-98ce-dc59c8524fc6",
   "metadata": {},
   "outputs": [
    {
     "data": {
      "text/plain": [
       "13        51.508999\n",
       "25        51.493311\n",
       "34        51.498244\n",
       "95        51.480177\n",
       "118       51.519685\n",
       "            ...    \n",
       "660664    56.880265\n",
       "660667    57.076929\n",
       "660668    57.054889\n",
       "660669    57.484296\n",
       "660671    57.572162\n",
       "Name: Latitude, Length: 17150, dtype: float64"
      ]
     },
     "execution_count": 52,
     "metadata": {},
     "output_type": "execute_result"
    }
   ],
   "source": [
    "accident[accident['Weather_Conditions']== 'Other']['Latitude']"
   ]
  },
  {
   "cell_type": "code",
   "execution_count": 53,
   "id": "66ed2cee-87d9-4423-bd2f-7dfedcf89c11",
   "metadata": {},
   "outputs": [
    {
     "data": {
      "text/plain": [
       "41        51.493753\n",
       "694       51.509123\n",
       "697       51.513119\n",
       "1017      51.520805\n",
       "1165      51.509345\n",
       "            ...    \n",
       "660605    58.989752\n",
       "660632    60.242707\n",
       "660640    60.153353\n",
       "660642    60.157212\n",
       "660643    60.344563\n",
       "Name: Latitude, Length: 9615, dtype: float64"
      ]
     },
     "execution_count": 53,
     "metadata": {},
     "output_type": "execute_result"
    }
   ],
   "source": [
    "accident[accident['Weather_Conditions']== 'Raining + high winds']['Latitude']"
   ]
  },
  {
   "cell_type": "code",
   "execution_count": 54,
   "id": "0918b1bf-2ec6-4ad5-8ae7-bfbd007ef41b",
   "metadata": {},
   "outputs": [
    {
     "data": {
      "text/plain": [
       "36        51.497451\n",
       "287       51.494612\n",
       "322       51.488769\n",
       "391       51.495117\n",
       "414       51.487743\n",
       "            ...    \n",
       "660629    57.687933\n",
       "660637    60.233118\n",
       "660645    60.162660\n",
       "660647    60.195539\n",
       "660665    56.884448\n",
       "Name: Latitude, Length: 8554, dtype: float64"
      ]
     },
     "execution_count": 54,
     "metadata": {},
     "output_type": "execute_result"
    }
   ],
   "source": [
    "accident[accident['Weather_Conditions']== 'Fine + high winds']['Latitude']"
   ]
  },
  {
   "cell_type": "code",
   "execution_count": 55,
   "id": "b5ccc316-fed5-4324-a48c-688df68af45f",
   "metadata": {},
   "outputs": [
    {
     "data": {
      "text/plain": [
       "57        51.497725\n",
       "85        51.522561\n",
       "88        51.482076\n",
       "142       51.488394\n",
       "1039      51.497214\n",
       "            ...    \n",
       "660631    60.201045\n",
       "660654    60.070562\n",
       "660655    60.239368\n",
       "660659    57.248688\n",
       "660678    57.575210\n",
       "Name: Latitude, Length: 6238, dtype: float64"
      ]
     },
     "execution_count": 55,
     "metadata": {},
     "output_type": "execute_result"
    }
   ],
   "source": [
    "accident[accident['Weather_Conditions']== 'Snowing no high winds']['Latitude']"
   ]
  },
  {
   "cell_type": "code",
   "execution_count": 56,
   "id": "bcbd4002-6f29-4812-9ab6-359587b29cea",
   "metadata": {},
   "outputs": [
    {
     "data": {
      "text/plain": [
       "2169      51.505773\n",
       "3454      51.524253\n",
       "4192      51.493602\n",
       "4986      51.530953\n",
       "5789      51.511646\n",
       "            ...    \n",
       "660188    51.870180\n",
       "660285    52.142690\n",
       "660367    52.134766\n",
       "660409    57.515596\n",
       "660550    58.307893\n",
       "Name: Latitude, Length: 3528, dtype: float64"
      ]
     },
     "execution_count": 56,
     "metadata": {},
     "output_type": "execute_result"
    }
   ],
   "source": [
    "accident[accident['Weather_Conditions']== 'Fog or mist']['Latitude']"
   ]
  },
  {
   "cell_type": "code",
   "execution_count": 57,
   "id": "3747a5f4-5c46-46e7-9d4b-f8a25b80c288",
   "metadata": {},
   "outputs": [
    {
     "data": {
      "text/plain": [
       "23307     54.753063\n",
       "23316     54.470140\n",
       "23585     54.769737\n",
       "23641     54.766547\n",
       "24832     54.784285\n",
       "            ...    \n",
       "660601    58.895122\n",
       "660650    60.250124\n",
       "660653    60.305886\n",
       "660656    60.094818\n",
       "660666    56.879446\n",
       "Name: Latitude, Length: 885, dtype: float64"
      ]
     },
     "execution_count": 57,
     "metadata": {},
     "output_type": "execute_result"
    }
   ],
   "source": [
    "accident[accident['Weather_Conditions']== 'Snowing + high winds']['Latitude']"
   ]
  },
  {
   "cell_type": "code",
   "execution_count": 58,
   "id": "2eba27cf-bf5c-49ed-a338-96a939805b76",
   "metadata": {},
   "outputs": [
    {
     "data": {
      "text/plain": [
       "np.float64(0.0)"
      ]
     },
     "execution_count": 58,
     "metadata": {},
     "output_type": "execute_result"
    }
   ],
   "source": [
    "lat, la_wea = f_oneway(accident[accident['Weather_Conditions']== 'Snowing + high winds']['Latitude'], \n",
    "                       accident[accident['Weather_Conditions']== 'Fog or mist']['Latitude'], \n",
    "                       accident[accident['Weather_Conditions']== 'Snowing no high winds']['Latitude'], \n",
    "                       accident[accident['Weather_Conditions']== 'Fine + high winds']['Latitude'], \n",
    "                       accident[accident['Weather_Conditions']== 'Raining + high winds']['Latitude'], \n",
    "                       accident[accident['Weather_Conditions']== 'Other']['Latitude'], \n",
    "                       accident[accident['Weather_Conditions']== 'Raining no high winds']['Latitude'], \n",
    "                       accident[accident['Weather_Conditions']== 'Fine no high winds']['Latitude'])\n",
    "la_wea"
   ]
  },
  {
   "cell_type": "markdown",
   "id": "c19e697c-f265-4f26-8679-658f1a95828e",
   "metadata": {},
   "source": [
    "<h1>Insight:</h1>\n",
    "<h3>There is no correlation between latitude and weather conditions.</h3>\n",
    "<hr>"
   ]
  },
  {
   "cell_type": "markdown",
   "id": "67e58d67-27f0-4606-9e7c-d7d87ccb1fb6",
   "metadata": {},
   "source": [
    "<h1>Question 14</h1>\n",
    "<hr>\n",
    "<h3>When did most accidents happened?</h3>"
   ]
  },
  {
   "cell_type": "code",
   "execution_count": 59,
   "id": "0477db0f-da8f-4761-9b71-a75dc9e49bfa",
   "metadata": {},
   "outputs": [
    {
     "data": {
      "text/plain": [
       "Accident Date\n",
       "30-11-2019    704\n",
       "31-01-2019    697\n",
       "13-11-2021    692\n",
       "13-07-2019    692\n",
       "14-08-2019    688\n",
       "Name: count, dtype: int64"
      ]
     },
     "execution_count": 59,
     "metadata": {},
     "output_type": "execute_result"
    }
   ],
   "source": [
    "accident['Accident Date'].value_counts().head(5)"
   ]
  },
  {
   "cell_type": "markdown",
   "id": "c6868a78-86c3-47b5-841f-867417b5e4d0",
   "metadata": {},
   "source": [
    "<h1>Insight:</h1>\n",
    "<h3>Most accidents occurred on Nov. 11, 2019.</h3>\n",
    "<hr>"
   ]
  },
  {
   "cell_type": "markdown",
   "id": "80f00f63-1b1a-4fe5-9825-fe521d2dd505",
   "metadata": {},
   "source": [
    "<h1>Question 15</h1>\n",
    "<hr>\n",
    "<h3>Does the combination of vehicle type and road type affects the number of casualties?</h3>"
   ]
  },
  {
   "cell_type": "code",
   "execution_count": 60,
   "id": "6f4ef723-92da-4d1b-916c-1f109e82c71f",
   "metadata": {},
   "outputs": [
    {
     "data": {
      "text/plain": [
       "Vehicle_Type                         Road_Type         \n",
       "Agricultural vehicle                 Dual carriageway        406\n",
       "                                     One way street           60\n",
       "                                     Roundabout              156\n",
       "                                     Single carriageway     1949\n",
       "                                     Slip road                42\n",
       "                                                           ...  \n",
       "Van / Goods 3.5 tonnes mgw or under  Dual carriageway       7494\n",
       "                                     One way street          886\n",
       "                                     Roundabout             2927\n",
       "                                     Single carriageway    34427\n",
       "                                     Slip road               537\n",
       "Name: Number_of_Casualties, Length: 80, dtype: int64"
      ]
     },
     "execution_count": 60,
     "metadata": {},
     "output_type": "execute_result"
    }
   ],
   "source": [
    "combined = accident.groupby(['Vehicle_Type', 'Road_Type'])['Number_of_Casualties'].sum()\n",
    "combined"
   ]
  },
  {
   "cell_type": "markdown",
   "id": "149aaf97-026c-4457-812f-80e50b74b7e4",
   "metadata": {},
   "source": [
    "<h1>Insight:</h1>\n",
    "<h3>It shows that whatever vehicle type you use, the number of casualties in single carriageway are high, probably because of it is overused.</h3>\n",
    "<hr>"
   ]
  },
  {
   "cell_type": "markdown",
   "id": "84ba3f53-1a8c-412a-a277-bd7cb647527c",
   "metadata": {},
   "source": [
    "<h1>Question 16</h1>\n",
    "<hr>\n",
    "<h3>Are accidents more frequent in low-visibility conditions?</h3>"
   ]
  },
  {
   "cell_type": "code",
   "execution_count": 61,
   "id": "192abf48-00a3-4f92-9c27-370e67193a24",
   "metadata": {},
   "outputs": [
    {
     "data": {
      "text/plain": [
       "Light_Conditions\n",
       "Daylight                       484880\n",
       "Darkness - lights lit          129335\n",
       "Darkness - no lighting          37437\n",
       "Darkness - lighting unknown      6484\n",
       "Darkness - lights unlit          2543\n",
       "Name: count, dtype: int64"
      ]
     },
     "execution_count": 61,
     "metadata": {},
     "output_type": "execute_result"
    }
   ],
   "source": [
    "accident['Light_Conditions'].value_counts()"
   ]
  },
  {
   "cell_type": "markdown",
   "id": "f9192372-a196-4e42-8135-8a63b593cf66",
   "metadata": {},
   "source": [
    "<h1>Insight:</h1>\n",
    "<h3>It shows that daylight produce more accidents than it is when dark.</h3>\n",
    "<hr>"
   ]
  },
  {
   "cell_type": "markdown",
   "id": "6c24ad5f-14f2-4735-99a2-d17419ec18eb",
   "metadata": {},
   "source": [
    "<h1>Question 17</h1>\n",
    "<hr>\n",
    "<h3>Are rural areas more likely to experience fatal accidents than urban areas?</h3>"
   ]
  },
  {
   "cell_type": "code",
   "execution_count": 62,
   "id": "882f48a6-5daf-4597-8304-19caac313183",
   "metadata": {},
   "outputs": [
    {
     "data": {
      "text/plain": [
       "Urban_or_Rural_Area  Accident_Severity\n",
       "Rural                Fatal                 11733\n",
       "                     Serious               62770\n",
       "                     Slight               279012\n",
       "Unallocated          Fatal                     0\n",
       "                     Serious                   1\n",
       "                     Slight                   12\n",
       "Urban                Fatal                  4750\n",
       "                     Serious               66668\n",
       "                     Slight               471622\n",
       "Name: Number_of_Casualties, dtype: int64"
      ]
     },
     "execution_count": 62,
     "metadata": {},
     "output_type": "execute_result"
    }
   ],
   "source": [
    "rur = accident.groupby(['Urban_or_Rural_Area', 'Accident_Severity'])['Number_of_Casualties'].sum()\n",
    "rur"
   ]
  },
  {
   "cell_type": "markdown",
   "id": "dc1fa1a1-f0ae-4492-b160-36d799fdfef6",
   "metadata": {},
   "source": [
    "<h1>Insight:</h1>\n",
    "<h3>The urban areas experience a more fatal accidents and casualties.</h3>\n",
    "<hr>"
   ]
  },
  {
   "cell_type": "markdown",
   "id": "5f07ce1f-34fd-4077-9d6b-66c59337b8f7",
   "metadata": {},
   "source": [
    "<h1>Question 18</h1>\n",
    "<hr>\n",
    "<h3>Which Road surface conditions have the most number of casualties?</h3>"
   ]
  },
  {
   "cell_type": "code",
   "execution_count": 63,
   "id": "5e6caa9e-8465-4cbb-abe5-7684cc9a34cd",
   "metadata": {},
   "outputs": [
    {
     "data": {
      "text/plain": [
       "Road_Surface_Conditions\n",
       "Dry                     598606\n",
       "Flood over 3cm. deep      1521\n",
       "Frost or ice             24976\n",
       "Snow                      8008\n",
       "Wet or damp             263457\n",
       "Name: Number_of_Casualties, dtype: int64"
      ]
     },
     "execution_count": 63,
     "metadata": {},
     "output_type": "execute_result"
    }
   ],
   "source": [
    "road_casualties = accident.groupby('Road_Surface_Conditions')['Number_of_Casualties'].sum()\n",
    "road_casualties\n"
   ]
  },
  {
   "cell_type": "markdown",
   "id": "07fd623e-881d-4913-aa3f-adc79619a34a",
   "metadata": {},
   "source": [
    "<h1>Insight:</h1>\n",
    "<h3>The data shows that accidents on dry road surfaces recorded the highest number of casualties.</h3>\n",
    "<hr>"
   ]
  },
  {
   "cell_type": "markdown",
   "id": "f8a7413d-59a5-4085-8bc1-b0665ebb4fc5",
   "metadata": {},
   "source": [
    "<h1>Question 19</h1>\n",
    "<hr>\n",
    "<h3>How do Weather conditions and Vehicle type together affect Number of casualties?</h3>"
   ]
  },
  {
   "cell_type": "code",
   "execution_count": 64,
   "id": "ade6ad81-aa9e-44a1-80f2-f648fb6a1bbc",
   "metadata": {},
   "outputs": [
    {
     "data": {
      "text/plain": [
       "Weather_Conditions     Vehicle_Type                        \n",
       "Fine + high winds      Agricultural vehicle                      20\n",
       "                       Bus or coach (17 or more pass seats)     350\n",
       "                       Car                                     6463\n",
       "                       Data missing or out of range               1\n",
       "                       Goods 7.5 tonnes mgw and over            251\n",
       "                                                               ... \n",
       "Snowing no high winds  Other vehicle                             50\n",
       "                       Pedal cycle                                3\n",
       "                       Ridden horse                               0\n",
       "                       Taxi/Private hire car                    136\n",
       "                       Van / Goods 3.5 tonnes mgw or under      296\n",
       "Name: Number_of_Casualties, Length: 128, dtype: int64"
      ]
     },
     "execution_count": 64,
     "metadata": {},
     "output_type": "execute_result"
    }
   ],
   "source": [
    "co = accident.groupby(['Weather_Conditions', 'Vehicle_Type'])['Number_of_Casualties'].size()\n",
    "co\n"
   ]
  },
  {
   "cell_type": "markdown",
   "id": "08ca0acd-0dc2-4332-8983-526d3609f0e3",
   "metadata": {},
   "source": [
    "<h1>Insight:</h1>\n",
    "<h3>Casualties are higher for cars in fine + high winds, indicating vehicle type and weather matter.</h3>\n",
    "<hr>"
   ]
  },
  {
   "cell_type": "markdown",
   "id": "7f7a591e-fd13-4d44-9412-c1c2f52bac1d",
   "metadata": {},
   "source": [
    "<h1>Question 20</h1>\n",
    "<hr>\n",
    "<h3>Is there a relationship between Latitude/Longitude and Number of casualties</h3>"
   ]
  },
  {
   "cell_type": "code",
   "execution_count": 65,
   "id": "0e677c64-cf93-45d2-8ee3-05eff544fede",
   "metadata": {},
   "outputs": [
    {
     "data": {
      "text/plain": [
       "np.float64(0.032200686625906395)"
      ]
     },
     "execution_count": 65,
     "metadata": {},
     "output_type": "execute_result"
    }
   ],
   "source": [
    "lat_corr = accident['Latitude'].corr(accident['Number_of_Casualties'])\n",
    "lat_corr"
   ]
  },
  {
   "cell_type": "code",
   "execution_count": 66,
   "id": "a45dcaef-3e8a-48ef-b246-8b63ac431891",
   "metadata": {},
   "outputs": [
    {
     "data": {
      "text/plain": [
       "np.float64(-0.0404056457884545)"
      ]
     },
     "execution_count": 66,
     "metadata": {},
     "output_type": "execute_result"
    }
   ],
   "source": [
    "lon_corr = accident['Longitude'].corr(accident['Number_of_Casualties'])\n",
    "lon_corr"
   ]
  },
  {
   "cell_type": "markdown",
   "id": "6729c866-b232-4170-9ac7-e5709844c1c7",
   "metadata": {},
   "source": [
    "<h1>Insight:</h1>\n",
    "<h3>Casualties increase slightly with latitude and decrease with longitude, indicating location influences accident severity.</h3>\n",
    "<hr>"
   ]
  }
 ],
 "metadata": {
  "kernelspec": {
   "display_name": "Python 3 (ipykernel)",
   "language": "python",
   "name": "python3"
  },
  "language_info": {
   "codemirror_mode": {
    "name": "ipython",
    "version": 3
   },
   "file_extension": ".py",
   "mimetype": "text/x-python",
   "name": "python",
   "nbconvert_exporter": "python",
   "pygments_lexer": "ipython3",
   "version": "3.13.7"
  }
 },
 "nbformat": 4,
 "nbformat_minor": 5
}
